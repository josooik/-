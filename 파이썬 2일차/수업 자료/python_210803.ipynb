{
 "cells": [
  {
   "cell_type": "markdown",
   "id": "da767a83",
   "metadata": {},
   "source": [
    "### 출력방법\n",
    "\n",
    "- print() 함수 사용\n",
    "- print(값)\n",
    "- print(값1, 값2, 값3, ... )"
   ]
  },
  {
   "cell_type": "code",
   "execution_count": 9,
   "id": "4b4a2579",
   "metadata": {},
   "outputs": [
    {
     "name": "stdout",
     "output_type": "stream",
     "text": [
      "1\n",
      "Hello python\n",
      "3.65\n"
     ]
    }
   ],
   "source": [
    "print(1) # 정수\n",
    "print(\"Hello python\") # 문자열\n",
    "print(3.65) # 실수"
   ]
  },
  {
   "cell_type": "code",
   "execution_count": 10,
   "id": "f57bba7e",
   "metadata": {},
   "outputs": [
    {
     "name": "stdout",
     "output_type": "stream",
     "text": [
      "1 2 3\n",
      "Hello Python\n"
     ]
    }
   ],
   "source": [
    "print(1,2,3)\n",
    "print(\"Hello\", \"Python\")"
   ]
  },
  {
   "cell_type": "markdown",
   "id": "a37530d0",
   "metadata": {},
   "source": [
    " - 변수 사용"
   ]
  },
  {
   "cell_type": "code",
   "execution_count": 8,
   "id": "e03911df",
   "metadata": {},
   "outputs": [
    {
     "name": "stdout",
     "output_type": "stream",
     "text": [
      "100\n",
      "100 50\n"
     ]
    }
   ],
   "source": [
    "a = 100\n",
    "b = 50\n",
    "print(a)\n",
    "print(a,b)"
   ]
  },
  {
   "cell_type": "markdown",
   "id": "b67f099b",
   "metadata": {},
   "source": [
    "- sep로 값사이에 문자를 넣기\n",
    "\n",
    "print(값1, 값2, sep='문자 또는 문자열')\n",
    "\n",
    "print(변수1, 변수2, sep='문자 또는 문자열')"
   ]
  },
  {
   "cell_type": "code",
   "execution_count": 15,
   "id": "5906954e",
   "metadata": {},
   "outputs": [
    {
     "name": "stdout",
     "output_type": "stream",
     "text": [
      "1 2 3\n",
      "1,2,3\n",
      "1, 2, 3\n"
     ]
    }
   ],
   "source": [
    "print(1,2,3)\n",
    "print(1,2,3, sep=',') # sep에 콤마(,)로 공백 지정\n",
    "print(1,2,3, sep=', ') # sep에 콤마(,)+공백 지정"
   ]
  },
  {
   "cell_type": "code",
   "execution_count": 16,
   "id": "4095893e",
   "metadata": {},
   "outputs": [
    {
     "name": "stdout",
     "output_type": "stream",
     "text": [
      "Hello Python\n",
      "HelloPython\n"
     ]
    }
   ],
   "source": [
    "print('Hello', 'Python')\n",
    "print(\"Hello\", \"Python\", sep='') # sep로 공백을 빈공백('')으로 지정"
   ]
  },
  {
   "cell_type": "code",
   "execution_count": 17,
   "id": "850490fe",
   "metadata": {},
   "outputs": [
    {
     "name": "stdout",
     "output_type": "stream",
     "text": [
      "3840x2160\n"
     ]
    }
   ],
   "source": [
    "print(3840,2160, sep='x') # sep로 'x' 지정"
   ]
  },
  {
   "cell_type": "code",
   "execution_count": 18,
   "id": "bfd9158f",
   "metadata": {},
   "outputs": [
    {
     "name": "stdout",
     "output_type": "stream",
     "text": [
      "1\n",
      "2\n",
      "3\n"
     ]
    }
   ],
   "source": [
    "print(1,2,3, sep='\\n') # 줄바꿈 활용"
   ]
  },
  {
   "cell_type": "markdown",
   "id": "abdf9d7f",
   "metadata": {},
   "source": [
    "- Python에서 print() 함수는 줄을 바꾸는 기능을 가지고 있음"
   ]
  },
  {
   "cell_type": "code",
   "execution_count": 19,
   "id": "f76a823c",
   "metadata": {},
   "outputs": [
    {
     "name": "stdout",
     "output_type": "stream",
     "text": [
      "1\n",
      "2\n",
      "3\n"
     ]
    }
   ],
   "source": [
    "print(1)      # 1을 출력하고 줄을 바꿔서 그다음 줄 시작위치에 커서가 오도록 함\n",
    "print(2)\n",
    "print(3)"
   ]
  },
  {
   "cell_type": "code",
   "execution_count": 20,
   "id": "36439e59",
   "metadata": {},
   "outputs": [
    {
     "name": "stdout",
     "output_type": "stream",
     "text": [
      "Hello python\n",
      "\n",
      "Hello python\n"
     ]
    }
   ],
   "source": [
    "print(\"Hello python\\n\")\n",
    "print(\"Hello python\")"
   ]
  },
  {
   "cell_type": "code",
   "execution_count": 21,
   "id": "fd6e7b6f",
   "metadata": {},
   "outputs": [
    {
     "name": "stdout",
     "output_type": "stream",
     "text": [
      "123\n"
     ]
    }
   ],
   "source": [
    "print(1, end='')      \n",
    "print(2, end='')\n",
    "print(3)"
   ]
  },
  {
   "cell_type": "code",
   "execution_count": 23,
   "id": "9ed78bec",
   "metadata": {},
   "outputs": [
    {
     "name": "stdout",
     "output_type": "stream",
     "text": [
      "1 2\n",
      "1.100000 2.200000\n",
      "1.1 2.2\n",
      "hello python\n"
     ]
    }
   ],
   "source": [
    "print(\"%d %d\"%(1,2)) #정수형\n",
    "print(\"%f %f\"%(1.1,2.2)) #실수형\n",
    "print(\"%.1f %.1f\"%(1.1,2.2)) #실수형(소수점 6자리)\n",
    "print(\"%s %s\"%(\"hello\",\"python\")) #문자형"
   ]
  },
  {
   "cell_type": "code",
   "execution_count": 26,
   "id": "e35ca9f6",
   "metadata": {},
   "outputs": [
    {
     "data": {
      "text/plain": [
       "range(0, 10)"
      ]
     },
     "execution_count": 26,
     "metadata": {},
     "output_type": "execute_result"
    }
   ],
   "source": [
    "range(10) # 0 ~ 9"
   ]
  },
  {
   "cell_type": "code",
   "execution_count": 27,
   "id": "dd0dfff3",
   "metadata": {},
   "outputs": [
    {
     "name": "stdout",
     "output_type": "stream",
     "text": [
      "[0, 1, 2, 3, 4, 5, 6, 7, 8, 9]\n"
     ]
    }
   ],
   "source": [
    "a = list(range(10))\n",
    "print(a)"
   ]
  },
  {
   "cell_type": "code",
   "execution_count": 28,
   "id": "64773578",
   "metadata": {},
   "outputs": [
    {
     "name": "stdout",
     "output_type": "stream",
     "text": [
      "[5, 6, 7, 8, 9, 10, 11]\n"
     ]
    }
   ],
   "source": [
    "b = list(range(5,12))\n",
    "print(b)"
   ]
  },
  {
   "cell_type": "code",
   "execution_count": 29,
   "id": "d0c9bce1",
   "metadata": {},
   "outputs": [
    {
     "name": "stdout",
     "output_type": "stream",
     "text": [
      "[1, 3, 5, 7, 9]\n"
     ]
    }
   ],
   "source": [
    "c = list(range(1,10,2))\n",
    "print(c)"
   ]
  },
  {
   "cell_type": "code",
   "execution_count": 30,
   "id": "e76cfeef",
   "metadata": {},
   "outputs": [
    {
     "name": "stdout",
     "output_type": "stream",
     "text": [
      "[10, 9, 8, 7, 6, 5, 4, 3, 2, 1]\n"
     ]
    }
   ],
   "source": [
    "d = list(range(10,0,-1))\n",
    "print(d)"
   ]
  },
  {
   "cell_type": "code",
   "execution_count": null,
   "id": "9cdd09a2",
   "metadata": {},
   "outputs": [],
   "source": []
  },
  {
   "cell_type": "code",
   "execution_count": null,
   "id": "cba66a62",
   "metadata": {},
   "outputs": [],
   "source": []
  },
  {
   "cell_type": "code",
   "execution_count": null,
   "id": "e5ebc0e0",
   "metadata": {},
   "outputs": [],
   "source": []
  },
  {
   "cell_type": "code",
   "execution_count": null,
   "id": "146d55d9",
   "metadata": {},
   "outputs": [],
   "source": []
  }
 ],
 "metadata": {
  "kernelspec": {
   "display_name": "Python 3",
   "language": "python",
   "name": "python3"
  },
  "language_info": {
   "codemirror_mode": {
    "name": "ipython",
    "version": 3
   },
   "file_extension": ".py",
   "mimetype": "text/x-python",
   "name": "python",
   "nbconvert_exporter": "python",
   "pygments_lexer": "ipython3",
   "version": "3.8.8"
  }
 },
 "nbformat": 4,
 "nbformat_minor": 5
}
