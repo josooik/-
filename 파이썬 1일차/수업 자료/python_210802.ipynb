{
 "cells": [
  {
   "cell_type": "markdown",
   "id": "6f7e4c71",
   "metadata": {},
   "source": [
    "## 변수\n",
    "- 한번에 여러 변수 만들기"
   ]
  },
  {
   "cell_type": "code",
   "execution_count": 28,
   "id": "73cd1bb6",
   "metadata": {},
   "outputs": [
    {
     "name": "stdout",
     "output_type": "stream",
     "text": [
      "10\n",
      "20\n",
      "30\n"
     ]
    }
   ],
   "source": [
    "x, y, z = 10, 20, 30\n",
    "print(x)\n",
    "print(y)\n",
    "print(z)"
   ]
  },
  {
   "cell_type": "markdown",
   "id": "cbc91d45",
   "metadata": {},
   "source": [
    "- 변수와 값의 개수가 다르면 에러 발생"
   ]
  },
  {
   "cell_type": "code",
   "execution_count": 29,
   "id": "7d94a217",
   "metadata": {},
   "outputs": [
    {
     "ename": "ValueError",
     "evalue": "not enough values to unpack (expected 3, got 2)",
     "output_type": "error",
     "traceback": [
      "\u001b[1;31m---------------------------------------------------------------------------\u001b[0m",
      "\u001b[1;31mValueError\u001b[0m                                Traceback (most recent call last)",
      "\u001b[1;32m<ipython-input-29-34d511726749>\u001b[0m in \u001b[0;36m<module>\u001b[1;34m\u001b[0m\n\u001b[1;32m----> 1\u001b[1;33m \u001b[0mx\u001b[0m\u001b[1;33m,\u001b[0m \u001b[0my\u001b[0m\u001b[1;33m,\u001b[0m \u001b[0mz\u001b[0m \u001b[1;33m=\u001b[0m \u001b[1;36m10\u001b[0m\u001b[1;33m,\u001b[0m \u001b[1;36m20\u001b[0m\u001b[1;33m\u001b[0m\u001b[1;33m\u001b[0m\u001b[0m\n\u001b[0m",
      "\u001b[1;31mValueError\u001b[0m: not enough values to unpack (expected 3, got 2)"
     ]
    }
   ],
   "source": [
    "x, y, z = 10, 20"
   ]
  },
  {
   "cell_type": "markdown",
   "id": "f2e2d724",
   "metadata": {},
   "source": [
    "- 모든 변수의 값이 같아도 됨"
   ]
  },
  {
   "cell_type": "code",
   "execution_count": 32,
   "id": "89eb83a4",
   "metadata": {},
   "outputs": [
    {
     "name": "stdout",
     "output_type": "stream",
     "text": [
      "10\n",
      "10\n",
      "10\n"
     ]
    }
   ],
   "source": [
    "x = y = z = 10\n",
    "print(x)\n",
    "print(y)\n",
    "print(z)"
   ]
  },
  {
   "cell_type": "markdown",
   "id": "4efc8e24",
   "metadata": {},
   "source": [
    " - x,y 값을 서로 맞바꾸는 것도 가능"
   ]
  },
  {
   "cell_type": "code",
   "execution_count": 39,
   "id": "804c2237",
   "metadata": {},
   "outputs": [
    {
     "name": "stdout",
     "output_type": "stream",
     "text": [
      "10 20\n",
      "20 10\n"
     ]
    }
   ],
   "source": [
    "x, y = 10, 20\n",
    "print(x,y)\n",
    "x, y = y, x\n",
    "print(x,y)"
   ]
  },
  {
   "cell_type": "markdown",
   "id": "51734168",
   "metadata": {},
   "source": [
    " - 변수 삭제하기 : del(변수)"
   ]
  },
  {
   "cell_type": "code",
   "execution_count": 42,
   "id": "c651bb90",
   "metadata": {},
   "outputs": [
    {
     "ename": "NameError",
     "evalue": "name 'x' is not defined",
     "output_type": "error",
     "traceback": [
      "\u001b[1;31m---------------------------------------------------------------------------\u001b[0m",
      "\u001b[1;31mNameError\u001b[0m                                 Traceback (most recent call last)",
      "\u001b[1;32m<ipython-input-42-f85867067c4c>\u001b[0m in \u001b[0;36m<module>\u001b[1;34m\u001b[0m\n\u001b[0;32m      1\u001b[0m \u001b[0mx\u001b[0m \u001b[1;33m=\u001b[0m \u001b[1;36m10\u001b[0m\u001b[1;33m\u001b[0m\u001b[1;33m\u001b[0m\u001b[0m\n\u001b[0;32m      2\u001b[0m \u001b[1;32mdel\u001b[0m\u001b[1;33m(\u001b[0m\u001b[0mx\u001b[0m\u001b[1;33m)\u001b[0m\u001b[1;33m\u001b[0m\u001b[1;33m\u001b[0m\u001b[0m\n\u001b[1;32m----> 3\u001b[1;33m \u001b[0mprint\u001b[0m\u001b[1;33m(\u001b[0m\u001b[0mx\u001b[0m\u001b[1;33m)\u001b[0m\u001b[1;33m\u001b[0m\u001b[1;33m\u001b[0m\u001b[0m\n\u001b[0m",
      "\u001b[1;31mNameError\u001b[0m: name 'x' is not defined"
     ]
    }
   ],
   "source": [
    "x = 10\n",
    "del(x)\n",
    "print(x)"
   ]
  },
  {
   "cell_type": "markdown",
   "id": "9836680d",
   "metadata": {},
   "source": [
    "### 빈변수 만들기\n",
    "\n",
    "- None 사용"
   ]
  },
  {
   "cell_type": "code",
   "execution_count": 43,
   "id": "4567496a",
   "metadata": {},
   "outputs": [
    {
     "name": "stdout",
     "output_type": "stream",
     "text": [
      "None\n"
     ]
    }
   ],
   "source": [
    "x = None\n",
    "print(x)"
   ]
  },
  {
   "cell_type": "markdown",
   "id": "c3d9b327",
   "metadata": {},
   "source": [
    "### 산술연산 후 할당 연산자 사용( + )"
   ]
  },
  {
   "cell_type": "code",
   "execution_count": 44,
   "id": "b73d053b",
   "metadata": {},
   "outputs": [
    {
     "name": "stdout",
     "output_type": "stream",
     "text": [
      "30\n"
     ]
    }
   ],
   "source": [
    "x = 10\n",
    "x = x + 20\n",
    "print(x)"
   ]
  },
  {
   "cell_type": "code",
   "execution_count": 45,
   "id": "0ee80a36",
   "metadata": {},
   "outputs": [
    {
     "name": "stdout",
     "output_type": "stream",
     "text": [
      "30\n"
     ]
    }
   ],
   "source": [
    "x = 10\n",
    "x += 20\n",
    "print(x)"
   ]
  },
  {
   "cell_type": "markdown",
   "id": "2f1c9ad4",
   "metadata": {},
   "source": [
    "### 산술연산 후 할당 연산자 사용( - )"
   ]
  },
  {
   "cell_type": "code",
   "execution_count": 46,
   "id": "fb953fae",
   "metadata": {},
   "outputs": [
    {
     "name": "stdout",
     "output_type": "stream",
     "text": [
      "10\n"
     ]
    }
   ],
   "source": [
    "x = 20 \n",
    "x = x - 10\n",
    "print(x)"
   ]
  },
  {
   "cell_type": "code",
   "execution_count": 47,
   "id": "b373a72d",
   "metadata": {},
   "outputs": [
    {
     "name": "stdout",
     "output_type": "stream",
     "text": [
      "10\n"
     ]
    }
   ],
   "source": [
    "x = 20 \n",
    "x -= 10\n",
    "print(x)"
   ]
  },
  {
   "cell_type": "markdown",
   "id": "7cb0b078",
   "metadata": {},
   "source": [
    "### 산술연산 후 할당 연산자 사용( * )"
   ]
  },
  {
   "cell_type": "code",
   "execution_count": 48,
   "id": "cc1cf8b8",
   "metadata": {},
   "outputs": [
    {
     "name": "stdout",
     "output_type": "stream",
     "text": [
      "30\n"
     ]
    }
   ],
   "source": [
    "x = 10 \n",
    "x = x * 3\n",
    "print(x)"
   ]
  },
  {
   "cell_type": "code",
   "execution_count": 50,
   "id": "9eb6a22b",
   "metadata": {},
   "outputs": [
    {
     "name": "stdout",
     "output_type": "stream",
     "text": [
      "30\n"
     ]
    }
   ],
   "source": [
    "x = 10\n",
    "x *= 3\n",
    "print(x)"
   ]
  },
  {
   "cell_type": "markdown",
   "id": "6ba395df",
   "metadata": {},
   "source": [
    "### 나머지 연산자 적용"
   ]
  },
  {
   "cell_type": "code",
   "execution_count": 55,
   "id": "06eaed02",
   "metadata": {},
   "outputs": [
    {
     "name": "stdout",
     "output_type": "stream",
     "text": [
      "5.0\n",
      "5.0\n",
      "3\n",
      "3\n",
      "2\n",
      "2\n"
     ]
    }
   ],
   "source": [
    "x = 20; x = x/4\n",
    "print(x)\n",
    "x = 20; x /= 4\n",
    "print(x)\n",
    "\n",
    "x = 20; x = x//6\n",
    "print(x)\n",
    "x = 20; x //= 6\n",
    "print(x)\n",
    "\n",
    "x = 20; x = x%6\n",
    "print(x)\n",
    "x = 20; x %= 6\n",
    "print(x)"
   ]
  },
  {
   "cell_type": "markdown",
   "id": "3b418619",
   "metadata": {},
   "source": [
    "### 실수 계산하기"
   ]
  },
  {
   "cell_type": "code",
   "execution_count": 1,
   "id": "7f764e9c",
   "metadata": {},
   "outputs": [
    {
     "data": {
      "text/plain": [
       "7.3500000000000005"
      ]
     },
     "execution_count": 1,
     "metadata": {},
     "output_type": "execute_result"
    }
   ],
   "source": [
    "3.5 * 2.1"
   ]
  },
  {
   "cell_type": "code",
   "execution_count": 3,
   "id": "12483011",
   "metadata": {},
   "outputs": [
    {
     "data": {
      "text/plain": [
       "11.61"
      ]
     },
     "execution_count": 3,
     "metadata": {},
     "output_type": "execute_result"
    }
   ],
   "source": [
    "4.3 * 2.7"
   ]
  },
  {
   "cell_type": "code",
   "execution_count": 4,
   "id": "1d38fb3e",
   "metadata": {},
   "outputs": [
    {
     "data": {
      "text/plain": [
       "1.5999999999999996"
      ]
     },
     "execution_count": 4,
     "metadata": {},
     "output_type": "execute_result"
    }
   ],
   "source": [
    "4.3 - 2.7"
   ]
  },
  {
   "cell_type": "markdown",
   "id": "146a8cb9",
   "metadata": {},
   "source": [
    "### 값을 실수로 바꾸기\n",
    "\n",
    "- float(숫자)\n",
    "- float(계산식)\n",
    "- float('문자열')"
   ]
  },
  {
   "cell_type": "code",
   "execution_count": 5,
   "id": "eddb7dc1",
   "metadata": {},
   "outputs": [
    {
     "data": {
      "text/plain": [
       "3.0"
      ]
     },
     "execution_count": 5,
     "metadata": {},
     "output_type": "execute_result"
    }
   ],
   "source": [
    "float(3)"
   ]
  },
  {
   "cell_type": "code",
   "execution_count": 6,
   "id": "82954c0c",
   "metadata": {},
   "outputs": [
    {
     "data": {
      "text/plain": [
       "3.0"
      ]
     },
     "execution_count": 6,
     "metadata": {},
     "output_type": "execute_result"
    }
   ],
   "source": [
    "float(1+2)"
   ]
  },
  {
   "cell_type": "code",
   "execution_count": 7,
   "id": "131fcc7a",
   "metadata": {},
   "outputs": [
    {
     "name": "stdout",
     "output_type": "stream",
     "text": [
      "3.0\n"
     ]
    }
   ],
   "source": [
    "print(float(1+2))"
   ]
  },
  {
   "cell_type": "code",
   "execution_count": 11,
   "id": "185d08a2",
   "metadata": {},
   "outputs": [
    {
     "name": "stdout",
     "output_type": "stream",
     "text": [
      "3.5467 <class 'float'>\n"
     ]
    }
   ],
   "source": [
    "d = '3.5467'\n",
    "print(float(d), type(float(d)))"
   ]
  },
  {
   "cell_type": "markdown",
   "id": "a33e31ca",
   "metadata": {},
   "source": [
    "## 정수와 실수를 더하면 자료형은 실수"
   ]
  },
  {
   "cell_type": "code",
   "execution_count": 12,
   "id": "9c06b71d",
   "metadata": {},
   "outputs": [
    {
     "name": "stdout",
     "output_type": "stream",
     "text": [
      "2.5 <class 'float'>\n"
     ]
    }
   ],
   "source": [
    "a = 1\n",
    "b = 1.5\n",
    "c = a+b\n",
    "print(c, type(c))"
   ]
  },
  {
   "cell_type": "markdown",
   "id": "fb80c0d1",
   "metadata": {},
   "source": [
    "## 괄호 사용"
   ]
  },
  {
   "cell_type": "code",
   "execution_count": 13,
   "id": "d00e20ad",
   "metadata": {},
   "outputs": [
    {
     "data": {
      "text/plain": [
       "37"
      ]
     },
     "execution_count": 13,
     "metadata": {},
     "output_type": "execute_result"
    }
   ],
   "source": [
    "35 + 1 * 2"
   ]
  },
  {
   "cell_type": "code",
   "execution_count": 14,
   "id": "fa477d30",
   "metadata": {},
   "outputs": [
    {
     "data": {
      "text/plain": [
       "37"
      ]
     },
     "execution_count": 14,
     "metadata": {},
     "output_type": "execute_result"
    }
   ],
   "source": [
    "35 + (1 * 2)"
   ]
  },
  {
   "cell_type": "code",
   "execution_count": 15,
   "id": "b8862852",
   "metadata": {},
   "outputs": [
    {
     "data": {
      "text/plain": [
       "72"
      ]
     },
     "execution_count": 15,
     "metadata": {},
     "output_type": "execute_result"
    }
   ],
   "source": [
    "(35 + 1) * 2"
   ]
  },
  {
   "cell_type": "markdown",
   "id": "8ce1bf96",
   "metadata": {},
   "source": [
    "## 문제풀기\n",
    "\n",
    "- 국립 환경과학원에서는 아파트에서 소음이 가장 심한 층수를 구하는 계산식을 발표하였습니다. 소음이 가장 심한 층은 0.2467 * 도로와의 거리(m) + 4.159입니다. 소음이 가장 심한 층수가 출력되게 만드세요. 단, 층수를 출력할 때는 소수점 이하 자리는 버립니다.(정수로 출력)\n",
    "\n",
    "- 도로와의 거리는 12m 입니다."
   ]
  },
  {
   "cell_type": "code",
   "execution_count": 16,
   "id": "30c755ae",
   "metadata": {},
   "outputs": [
    {
     "name": "stdout",
     "output_type": "stream",
     "text": [
      "7\n"
     ]
    }
   ],
   "source": [
    "dist = 12\n",
    "print(int( 0.2467 * dist + 4.159))"
   ]
  },
  {
   "cell_type": "markdown",
   "id": "2278aaca",
   "metadata": {},
   "source": [
    "## 문자열 연산"
   ]
  },
  {
   "cell_type": "code",
   "execution_count": 17,
   "id": "6bdc5be1",
   "metadata": {},
   "outputs": [
    {
     "name": "stdout",
     "output_type": "stream",
     "text": [
      "Python is fun!\n"
     ]
    }
   ],
   "source": [
    "head = \"Python\"\n",
    "tail = \" is fun!\"\n",
    "print(head + tail)"
   ]
  },
  {
   "cell_type": "code",
   "execution_count": 18,
   "id": "2a0b7652",
   "metadata": {},
   "outputs": [
    {
     "name": "stdout",
     "output_type": "stream",
     "text": [
      "PythonPython\n"
     ]
    }
   ],
   "source": [
    "print(head+head)"
   ]
  },
  {
   "cell_type": "code",
   "execution_count": 19,
   "id": "eb7de86a",
   "metadata": {},
   "outputs": [
    {
     "name": "stdout",
     "output_type": "stream",
     "text": [
      "1020\n"
     ]
    }
   ],
   "source": [
    "a = '10'\n",
    "b = '20'\n",
    "print(a+b)"
   ]
  },
  {
   "cell_type": "code",
   "execution_count": 20,
   "id": "da536516",
   "metadata": {},
   "outputs": [
    {
     "name": "stdout",
     "output_type": "stream",
     "text": [
      "30\n"
     ]
    }
   ],
   "source": [
    "print(int(a)+int(b))"
   ]
  },
  {
   "cell_type": "code",
   "execution_count": 21,
   "id": "8b7826c2",
   "metadata": {},
   "outputs": [
    {
     "name": "stdout",
     "output_type": "stream",
     "text": [
      "PythonPythonPython\n"
     ]
    }
   ],
   "source": [
    "print(head*3)"
   ]
  },
  {
   "cell_type": "code",
   "execution_count": 22,
   "id": "827e3e60",
   "metadata": {},
   "outputs": [
    {
     "name": "stdout",
     "output_type": "stream",
     "text": [
      "******************************\n"
     ]
    }
   ],
   "source": [
    "star = '*'\n",
    "print(star*30)"
   ]
  },
  {
   "cell_type": "code",
   "execution_count": 23,
   "id": "fd1ca5a5",
   "metadata": {},
   "outputs": [
    {
     "name": "stdout",
     "output_type": "stream",
     "text": [
      "==============================\n",
      "My program\n",
      "==============================\n"
     ]
    }
   ],
   "source": [
    "print('=' * 30)\n",
    "print(\"My program\")\n",
    "print('=' * 30)"
   ]
  },
  {
   "cell_type": "markdown",
   "id": "bbb44f40",
   "metadata": {},
   "source": [
    "## 문자열 길이구하기\n",
    "\n",
    "- len(문자열)"
   ]
  },
  {
   "cell_type": "code",
   "execution_count": 24,
   "id": "0688149b",
   "metadata": {},
   "outputs": [
    {
     "name": "stdout",
     "output_type": "stream",
     "text": [
      "20\n"
     ]
    }
   ],
   "source": [
    "a = \"Life is too short!!!\"\n",
    "print(len(a))"
   ]
  },
  {
   "cell_type": "markdown",
   "id": "4b8be92e",
   "metadata": {},
   "source": [
    "### INPUT함수 사용\n",
    "\n",
    "- input() 함수를 사용하면 결과가 String으로 나옴"
   ]
  },
  {
   "cell_type": "code",
   "execution_count": 1,
   "id": "79530152",
   "metadata": {},
   "outputs": [
    {
     "name": "stdout",
     "output_type": "stream",
     "text": [
      "1번째 정수를 입력하세요 5\n",
      "2번째 정수를 입력하세요 6\n",
      "56\n",
      "<class 'str'> <class 'str'>\n"
     ]
    }
   ],
   "source": [
    "a = input(\"1번째 정수를 입력하세요 \")\n",
    "b = input(\"2번째 정수를 입력하세요 \")\n",
    "print(a+b)\n",
    "print(type(a), type(b))"
   ]
  },
  {
   "cell_type": "code",
   "execution_count": 3,
   "id": "3411811a",
   "metadata": {},
   "outputs": [
    {
     "name": "stdout",
     "output_type": "stream",
     "text": [
      "정수 2개를 입력하세요 5 7\n",
      "57\n",
      "<class 'str'> <class 'str'>\n"
     ]
    }
   ],
   "source": [
    "a, b = input(\"정수 2개를 입력하세요 \").split() # 공백을 기준으로 나눔\n",
    "print(a+b)\n",
    "print(type(a), type(b))"
   ]
  },
  {
   "cell_type": "code",
   "execution_count": 4,
   "id": "6e04beb1",
   "metadata": {},
   "outputs": [
    {
     "name": "stdout",
     "output_type": "stream",
     "text": [
      "문자열 2개를 입력하세요 Hello python\n",
      "Hellopython\n",
      "<class 'str'> <class 'str'>\n"
     ]
    }
   ],
   "source": [
    "a, b = input(\"문자열 2개를 입력하세요 \").split() # 공백을 기준으로 나눔\n",
    "print(a+b)\n",
    "print(type(a), type(b))"
   ]
  },
  {
   "cell_type": "code",
   "execution_count": 5,
   "id": "c9d48b17",
   "metadata": {},
   "outputs": [
    {
     "name": "stdout",
     "output_type": "stream",
     "text": [
      "1번째 정수를 입력하세요 5\n",
      "2번째 정수를 입력하세요 7\n",
      "12\n",
      "<class 'int'> <class 'int'>\n"
     ]
    }
   ],
   "source": [
    "a = input(\"1번째 정수를 입력하세요 \")\n",
    "b = input(\"2번째 정수를 입력하세요 \")\n",
    "\n",
    "a = int(a)\n",
    "b = int(b)\n",
    "\n",
    "print(a+b)\n",
    "print(type(a), type(b))"
   ]
  },
  {
   "cell_type": "code",
   "execution_count": 6,
   "id": "30284a14",
   "metadata": {},
   "outputs": [
    {
     "name": "stdout",
     "output_type": "stream",
     "text": [
      "정수 2개를 입력하세요 7 8\n",
      "15\n",
      "<class 'int'> <class 'int'>\n"
     ]
    }
   ],
   "source": [
    "a, b = input(\"정수 2개를 입력하세요 \").split() # 공백을 기준으로 나눔\n",
    "a = int(a)\n",
    "b = int(b)\n",
    "print(a+b)\n",
    "print(type(a), type(b))"
   ]
  },
  {
   "cell_type": "code",
   "execution_count": 7,
   "id": "98637f6f",
   "metadata": {},
   "outputs": [
    {
     "name": "stdout",
     "output_type": "stream",
     "text": [
      "정수 2개를 입력하세요 5,6\n",
      "11\n",
      "<class 'int'> <class 'int'>\n"
     ]
    }
   ],
   "source": [
    "a, b = input(\"정수 2개를 입력하세요 \").split(',') # 문자','기준으로 문자열 나눔\n",
    "a = int(a)\n",
    "b = int(b)\n",
    "print(a+b)\n",
    "print(type(a), type(b))"
   ]
  },
  {
   "cell_type": "code",
   "execution_count": 8,
   "id": "538bc0d3",
   "metadata": {},
   "outputs": [
    {
     "name": "stdout",
     "output_type": "stream",
     "text": [
      "정수 2개를 입력하세요 7 8\n",
      "15\n"
     ]
    }
   ],
   "source": [
    "a, b = map(int, input(\"정수 2개를 입력하세요 \").split())\n",
    "print(a+b)"
   ]
  },
  {
   "cell_type": "code",
   "execution_count": 9,
   "id": "825f151e",
   "metadata": {},
   "outputs": [
    {
     "name": "stdout",
     "output_type": "stream",
     "text": [
      "정수 2개를 입력하세요 5,9\n",
      "14\n"
     ]
    }
   ],
   "source": [
    "a, b = map(int, input(\"정수 2개를 입력하세요 \").split(','))\n",
    "print(a+b)"
   ]
  },
  {
   "cell_type": "markdown",
   "id": "5d79e01e",
   "metadata": {},
   "source": [
    "### 실습문제\n",
    "- 숫자 3개를 입력받아서 입력받은 숫자의 합, 곱을 구하세요"
   ]
  },
  {
   "cell_type": "code",
   "execution_count": 11,
   "id": "8584c49f",
   "metadata": {},
   "outputs": [
    {
     "name": "stdout",
     "output_type": "stream",
     "text": [
      "정수 3개를 입력하세요 1 3 5\n",
      "9\n",
      "15\n"
     ]
    }
   ],
   "source": [
    "a, b, c = map(int, input(\"정수 3개를 입력하세요 \").split())\n",
    "print(a+b+c)\n",
    "print(a*b*c)"
   ]
  },
  {
   "cell_type": "code",
   "execution_count": 12,
   "id": "57f647d9",
   "metadata": {},
   "outputs": [
    {
     "name": "stdout",
     "output_type": "stream",
     "text": [
      "정수 3개를 입력하세요 1 3 5\n",
      "9\n",
      "15\n"
     ]
    }
   ],
   "source": [
    "a, b, c = input(\"정수 3개를 입력하세요 \").split()\n",
    "a = int(a)\n",
    "b = int(b)\n",
    "c = int(c)\n",
    "print(a+b+c)\n",
    "print(a*b*c)"
   ]
  },
  {
   "cell_type": "markdown",
   "id": "02775b4c",
   "metadata": {},
   "source": [
    "### 실습 문제\n",
    "- 국어, 영어, 수학, 과학 점수를 입력받아서(input에서 안내문자는 출력하지 않음) 평균점수를 출력하는 프로그램을 만드세요. 단, 평균점수를 출력할 때 소수점 이하 자리는 버립니다."
   ]
  },
  {
   "cell_type": "code",
   "execution_count": 14,
   "id": "94596d8b",
   "metadata": {},
   "outputs": [
    {
     "name": "stdout",
     "output_type": "stream",
     "text": [
      "90 90 90 90\n",
      "90\n"
     ]
    }
   ],
   "source": [
    "kor, eng, mat, sci = map(int,input().split())\n",
    "print(int((kor+eng+mat+sci)/4))"
   ]
  },
  {
   "cell_type": "code",
   "execution_count": null,
   "id": "d086a25c",
   "metadata": {},
   "outputs": [],
   "source": []
  }
 ],
 "metadata": {
  "kernelspec": {
   "display_name": "Python 3",
   "language": "python",
   "name": "python3"
  },
  "language_info": {
   "codemirror_mode": {
    "name": "ipython",
    "version": 3
   },
   "file_extension": ".py",
   "mimetype": "text/x-python",
   "name": "python",
   "nbconvert_exporter": "python",
   "pygments_lexer": "ipython3",
   "version": "3.8.8"
  }
 },
 "nbformat": 4,
 "nbformat_minor": 5
}
