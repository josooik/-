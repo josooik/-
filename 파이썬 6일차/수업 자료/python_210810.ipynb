{
 "cells": [
  {
   "cell_type": "markdown",
   "id": "6339881d",
   "metadata": {},
   "source": [
    "## 내장함수"
   ]
  },
  {
   "cell_type": "markdown",
   "id": "59f3a311",
   "metadata": {},
   "source": [
    "#### abs(x)\n",
    "1. 어떤 숫자를 입력 받았을때 절대값을 돌려주는 함수"
   ]
  },
  {
   "cell_type": "code",
   "execution_count": 1,
   "id": "cae6f272",
   "metadata": {},
   "outputs": [
    {
     "data": {
      "text/plain": [
       "3"
      ]
     },
     "execution_count": 1,
     "metadata": {},
     "output_type": "execute_result"
    }
   ],
   "source": [
    "abs(3)"
   ]
  },
  {
   "cell_type": "code",
   "execution_count": 2,
   "id": "5450d574",
   "metadata": {},
   "outputs": [
    {
     "data": {
      "text/plain": [
       "3"
      ]
     },
     "execution_count": 2,
     "metadata": {},
     "output_type": "execute_result"
    }
   ],
   "source": [
    "abs(-3)"
   ]
  },
  {
   "cell_type": "code",
   "execution_count": 3,
   "id": "fda03829",
   "metadata": {},
   "outputs": [
    {
     "data": {
      "text/plain": [
       "1.2"
      ]
     },
     "execution_count": 3,
     "metadata": {},
     "output_type": "execute_result"
    }
   ],
   "source": [
    "abs(-1.2)"
   ]
  },
  {
   "cell_type": "markdown",
   "id": "e77e701f",
   "metadata": {},
   "source": [
    "#### all(x)\n",
    "1. 반복가능한 자료형 x를 입력 인수로 받으며 이 x가 모두 참이면 True 하나라도 참이 아니면 False를 출력"
   ]
  },
  {
   "cell_type": "code",
   "execution_count": 4,
   "id": "4ca1b693",
   "metadata": {},
   "outputs": [
    {
     "data": {
      "text/plain": [
       "True"
      ]
     },
     "execution_count": 4,
     "metadata": {},
     "output_type": "execute_result"
    }
   ],
   "source": [
    "mylist = [1,2,3]\n",
    "all(mylist)"
   ]
  },
  {
   "cell_type": "code",
   "execution_count": 6,
   "id": "60a8d8d0",
   "metadata": {},
   "outputs": [
    {
     "data": {
      "text/plain": [
       "False"
      ]
     },
     "execution_count": 6,
     "metadata": {},
     "output_type": "execute_result"
    }
   ],
   "source": [
    "mylist = [0,2,3] # 리스트 자료형 중에서 요소 0은 거짓\n",
    "all(mylist)"
   ]
  },
  {
   "cell_type": "markdown",
   "id": "324cce31",
   "metadata": {},
   "source": [
    "#### any(x)\n",
    "\n",
    "1. x중에서 하나라도 참이 있으면 True, x가 모두 거짓일 때 False\n",
    "1. all(x)의 반대"
   ]
  },
  {
   "cell_type": "code",
   "execution_count": 7,
   "id": "1863665e",
   "metadata": {},
   "outputs": [
    {
     "data": {
      "text/plain": [
       "True"
      ]
     },
     "execution_count": 7,
     "metadata": {},
     "output_type": "execute_result"
    }
   ],
   "source": [
    "mylist = [0,2,3]\n",
    "any(mylist)"
   ]
  },
  {
   "cell_type": "code",
   "execution_count": 8,
   "id": "2a1c2ef7",
   "metadata": {},
   "outputs": [
    {
     "data": {
      "text/plain": [
       "False"
      ]
     },
     "execution_count": 8,
     "metadata": {},
     "output_type": "execute_result"
    }
   ],
   "source": [
    "mylist = [0,\"\"]\n",
    "any(mylist)"
   ]
  },
  {
   "cell_type": "markdown",
   "id": "099e805a",
   "metadata": {},
   "source": [
    "#### chr(x)\n",
    "\n",
    "1. chr(i)는 아스키(ASCII)코드 값을 입력받아 그 코드에 해당하는 문자를 출력\n",
    "2. ord(c) 함수와 반대 개념"
   ]
  },
  {
   "cell_type": "code",
   "execution_count": 9,
   "id": "eaaeb902",
   "metadata": {},
   "outputs": [
    {
     "data": {
      "text/plain": [
       "'A'"
      ]
     },
     "execution_count": 9,
     "metadata": {},
     "output_type": "execute_result"
    }
   ],
   "source": [
    "chr(65) # 0x41"
   ]
  },
  {
   "cell_type": "code",
   "execution_count": 12,
   "id": "ed729c01",
   "metadata": {},
   "outputs": [
    {
     "data": {
      "text/plain": [
       "'B'"
      ]
     },
     "execution_count": 12,
     "metadata": {},
     "output_type": "execute_result"
    }
   ],
   "source": [
    "chr(0x42)"
   ]
  },
  {
   "cell_type": "code",
   "execution_count": 10,
   "id": "b241c3f0",
   "metadata": {},
   "outputs": [
    {
     "data": {
      "text/plain": [
       "'a'"
      ]
     },
     "execution_count": 10,
     "metadata": {},
     "output_type": "execute_result"
    }
   ],
   "source": [
    "chr(97)  # 0x61"
   ]
  },
  {
   "cell_type": "code",
   "execution_count": 11,
   "id": "948f23bb",
   "metadata": {},
   "outputs": [
    {
     "data": {
      "text/plain": [
       "'b'"
      ]
     },
     "execution_count": 11,
     "metadata": {},
     "output_type": "execute_result"
    }
   ],
   "source": [
    "chr(0x62)"
   ]
  },
  {
   "cell_type": "code",
   "execution_count": 14,
   "id": "e0c34b3a",
   "metadata": {},
   "outputs": [
    {
     "data": {
      "text/plain": [
       "'0'"
      ]
     },
     "execution_count": 14,
     "metadata": {},
     "output_type": "execute_result"
    }
   ],
   "source": [
    "chr(0x30) # 48"
   ]
  },
  {
   "cell_type": "markdown",
   "id": "a956ac0b",
   "metadata": {},
   "source": [
    "#### dir\n",
    "- dir은 객체가 자체적으로 가지고 있는 변수나 함수를 보여줌"
   ]
  },
  {
   "cell_type": "code",
   "execution_count": 15,
   "id": "a9584835",
   "metadata": {},
   "outputs": [
    {
     "data": {
      "text/plain": [
       "['__add__',\n",
       " '__class__',\n",
       " '__contains__',\n",
       " '__delattr__',\n",
       " '__delitem__',\n",
       " '__dir__',\n",
       " '__doc__',\n",
       " '__eq__',\n",
       " '__format__',\n",
       " '__ge__',\n",
       " '__getattribute__',\n",
       " '__getitem__',\n",
       " '__gt__',\n",
       " '__hash__',\n",
       " '__iadd__',\n",
       " '__imul__',\n",
       " '__init__',\n",
       " '__init_subclass__',\n",
       " '__iter__',\n",
       " '__le__',\n",
       " '__len__',\n",
       " '__lt__',\n",
       " '__mul__',\n",
       " '__ne__',\n",
       " '__new__',\n",
       " '__reduce__',\n",
       " '__reduce_ex__',\n",
       " '__repr__',\n",
       " '__reversed__',\n",
       " '__rmul__',\n",
       " '__setattr__',\n",
       " '__setitem__',\n",
       " '__sizeof__',\n",
       " '__str__',\n",
       " '__subclasshook__',\n",
       " 'append',\n",
       " 'clear',\n",
       " 'copy',\n",
       " 'count',\n",
       " 'extend',\n",
       " 'index',\n",
       " 'insert',\n",
       " 'pop',\n",
       " 'remove',\n",
       " 'reverse',\n",
       " 'sort']"
      ]
     },
     "execution_count": 15,
     "metadata": {},
     "output_type": "execute_result"
    }
   ],
   "source": [
    "dir([1,2,3])"
   ]
  },
  {
   "cell_type": "code",
   "execution_count": 16,
   "id": "c12c8605",
   "metadata": {},
   "outputs": [
    {
     "data": {
      "text/plain": [
       "['__class__',\n",
       " '__contains__',\n",
       " '__delattr__',\n",
       " '__delitem__',\n",
       " '__dir__',\n",
       " '__doc__',\n",
       " '__eq__',\n",
       " '__format__',\n",
       " '__ge__',\n",
       " '__getattribute__',\n",
       " '__getitem__',\n",
       " '__gt__',\n",
       " '__hash__',\n",
       " '__init__',\n",
       " '__init_subclass__',\n",
       " '__iter__',\n",
       " '__le__',\n",
       " '__len__',\n",
       " '__lt__',\n",
       " '__ne__',\n",
       " '__new__',\n",
       " '__reduce__',\n",
       " '__reduce_ex__',\n",
       " '__repr__',\n",
       " '__reversed__',\n",
       " '__setattr__',\n",
       " '__setitem__',\n",
       " '__sizeof__',\n",
       " '__str__',\n",
       " '__subclasshook__',\n",
       " 'clear',\n",
       " 'copy',\n",
       " 'fromkeys',\n",
       " 'get',\n",
       " 'items',\n",
       " 'keys',\n",
       " 'pop',\n",
       " 'popitem',\n",
       " 'setdefault',\n",
       " 'update',\n",
       " 'values']"
      ]
     },
     "execution_count": 16,
     "metadata": {},
     "output_type": "execute_result"
    }
   ],
   "source": [
    "dir({'1':'a'})"
   ]
  },
  {
   "cell_type": "markdown",
   "id": "548e6357",
   "metadata": {},
   "source": [
    "#### divmod(a, b)\n",
    "- 두개의 입력받은 값 a,b로 a를 b로 나눈 몫과 나머지를 출력"
   ]
  },
  {
   "cell_type": "code",
   "execution_count": 23,
   "id": "f9a4b5d4",
   "metadata": {},
   "outputs": [
    {
     "name": "stdout",
     "output_type": "stream",
     "text": [
      "1 3\n",
      "1 3\n"
     ]
    }
   ],
   "source": [
    "a = 7//4   # 7을 4로 나눈 몫\n",
    "b = 7%4    # 7을 4로 나눈 나머지\n",
    "print(a,b)\n",
    "a,b = divmod(7,4)   # 7을 4로 나눈 몫과 나머지 출력\n",
    "print(a,b)"
   ]
  },
  {
   "cell_type": "markdown",
   "id": "2d4694c1",
   "metadata": {},
   "source": [
    "#### enumerate\n",
    "- 순서가 있는 자료형(리스트, 튜플, 문자열)을 입력받아 인덱스값을 포함하는  enumerate 객체를 돌려줌"
   ]
  },
  {
   "cell_type": "code",
   "execution_count": 25,
   "id": "6028a707",
   "metadata": {},
   "outputs": [
    {
     "name": "stdout",
     "output_type": "stream",
     "text": [
      "0 apple\n",
      "1 banana\n",
      "2 orange\n"
     ]
    }
   ],
   "source": [
    "for i, fruit in enumerate(['apple','banana', 'orange']):\n",
    "    print(i, fruit)"
   ]
  },
  {
   "cell_type": "markdown",
   "id": "252db144",
   "metadata": {},
   "source": [
    "#### eval\n",
    "- eval(expression)은 실행가능한 문자열(1+2, 'hi'+'a')을 입력받아 문자열을 실행한 결과값을 돌려줌"
   ]
  },
  {
   "cell_type": "code",
   "execution_count": 26,
   "id": "06eb39f2",
   "metadata": {},
   "outputs": [
    {
     "data": {
      "text/plain": [
       "3"
      ]
     },
     "execution_count": 26,
     "metadata": {},
     "output_type": "execute_result"
    }
   ],
   "source": [
    "eval('1+2')"
   ]
  },
  {
   "cell_type": "code",
   "execution_count": 28,
   "id": "c2aa6022",
   "metadata": {},
   "outputs": [
    {
     "data": {
      "text/plain": [
       "'hia'"
      ]
     },
     "execution_count": 28,
     "metadata": {},
     "output_type": "execute_result"
    }
   ],
   "source": [
    "eval(\"'hi'+'a'\")"
   ]
  },
  {
   "cell_type": "code",
   "execution_count": 29,
   "id": "29c1766b",
   "metadata": {},
   "outputs": [
    {
     "data": {
      "text/plain": [
       "(1, 1)"
      ]
     },
     "execution_count": 29,
     "metadata": {},
     "output_type": "execute_result"
    }
   ],
   "source": [
    "eval('divmod(4,3)')"
   ]
  },
  {
   "cell_type": "markdown",
   "id": "46d7d4d6",
   "metadata": {},
   "source": [
    "#### filter\n",
    "- 무엇인가를 걸러낸다는 뜻으로 filter함수도 동일한 의미를 가짐\n",
    "- 람다 표현식과 같이 사용함"
   ]
  },
  {
   "cell_type": "code",
   "execution_count": 32,
   "id": "5545f9ba",
   "metadata": {},
   "outputs": [
    {
     "name": "stdout",
     "output_type": "stream",
     "text": [
      "[1, 2, 6]\n"
     ]
    }
   ],
   "source": [
    "# 함수를 사용하여 걸러내기\n",
    "def positive(in_list):\n",
    "    result = []\n",
    "    for num in in_list:\n",
    "        if num > 0:\n",
    "            result.append(num)\n",
    "    return result\n",
    "\n",
    "print(positive([1,-3, 2, 0, -5, 6]))"
   ]
  },
  {
   "cell_type": "code",
   "execution_count": 36,
   "id": "cf117c13",
   "metadata": {},
   "outputs": [
    {
     "name": "stdout",
     "output_type": "stream",
     "text": [
      "[1, 2, 6]\n"
     ]
    }
   ],
   "source": [
    "# filter를 사용하여 걸러내기\n",
    "def positive(x):\n",
    "    return x > 0\n",
    "\n",
    "print(list(filter(positive, [1,-3, 2, 0, -5, 6])))"
   ]
  },
  {
   "cell_type": "code",
   "execution_count": 37,
   "id": "9fc8ebde",
   "metadata": {},
   "outputs": [
    {
     "name": "stdout",
     "output_type": "stream",
     "text": [
      "[1, 2, 6]\n"
     ]
    }
   ],
   "source": [
    "# 람다식을 사용하여 filter적용\n",
    "print(list(filter(lambda x: x > 0 , [1,-3, 2, 0, -5, 6])))"
   ]
  },
  {
   "cell_type": "markdown",
   "id": "6be0b84f",
   "metadata": {},
   "source": [
    "#### hex\n",
    "- 정수값을 입력받아 16진수 값으로 변환하여 돌려주는 함수"
   ]
  },
  {
   "cell_type": "code",
   "execution_count": 38,
   "id": "3db63075",
   "metadata": {},
   "outputs": [
    {
     "data": {
      "text/plain": [
       "'0xff'"
      ]
     },
     "execution_count": 38,
     "metadata": {},
     "output_type": "execute_result"
    }
   ],
   "source": [
    "hex(255)"
   ]
  },
  {
   "cell_type": "code",
   "execution_count": 39,
   "id": "d61f9db8",
   "metadata": {},
   "outputs": [
    {
     "data": {
      "text/plain": [
       "'0x7f'"
      ]
     },
     "execution_count": 39,
     "metadata": {},
     "output_type": "execute_result"
    }
   ],
   "source": [
    "hex(127)"
   ]
  },
  {
   "cell_type": "code",
   "execution_count": 40,
   "id": "adec3dec",
   "metadata": {},
   "outputs": [
    {
     "data": {
      "text/plain": [
       "'0x3'"
      ]
     },
     "execution_count": 40,
     "metadata": {},
     "output_type": "execute_result"
    }
   ],
   "source": [
    "hex(3)"
   ]
  },
  {
   "cell_type": "code",
   "execution_count": 41,
   "id": "d8aeaa3d",
   "metadata": {},
   "outputs": [
    {
     "data": {
      "text/plain": [
       "'0x10'"
      ]
     },
     "execution_count": 41,
     "metadata": {},
     "output_type": "execute_result"
    }
   ],
   "source": [
    "hex(16)"
   ]
  },
  {
   "cell_type": "markdown",
   "id": "5f99c102",
   "metadata": {},
   "source": [
    "#### oct\n",
    "- oct(x)는 정수값을 입력받아 8진수 값으로 변환하여 돌려주는 함수"
   ]
  },
  {
   "cell_type": "code",
   "execution_count": 76,
   "id": "3c1e35c7",
   "metadata": {},
   "outputs": [
    {
     "data": {
      "text/plain": [
       "'0o10'"
      ]
     },
     "execution_count": 76,
     "metadata": {},
     "output_type": "execute_result"
    }
   ],
   "source": [
    "oct(8)"
   ]
  },
  {
   "cell_type": "code",
   "execution_count": 79,
   "id": "e9838e1c",
   "metadata": {},
   "outputs": [
    {
     "data": {
      "text/plain": [
       "'0o42'"
      ]
     },
     "execution_count": 79,
     "metadata": {},
     "output_type": "execute_result"
    }
   ],
   "source": [
    "oct(34)"
   ]
  },
  {
   "cell_type": "code",
   "execution_count": 80,
   "id": "16eba058",
   "metadata": {},
   "outputs": [
    {
     "data": {
      "text/plain": [
       "'0o30071'"
      ]
     },
     "execution_count": 80,
     "metadata": {},
     "output_type": "execute_result"
    }
   ],
   "source": [
    "oct(12345)"
   ]
  },
  {
   "cell_type": "markdown",
   "id": "671a1ff6",
   "metadata": {},
   "source": [
    "#### id\n",
    "- id(object)는 객체를 입력받아 객체의 고유주소값(래퍼런스)을 돌려주는 함수"
   ]
  },
  {
   "cell_type": "code",
   "execution_count": 42,
   "id": "e172d9e2",
   "metadata": {},
   "outputs": [
    {
     "data": {
      "text/plain": [
       "140728935917424"
      ]
     },
     "execution_count": 42,
     "metadata": {},
     "output_type": "execute_result"
    }
   ],
   "source": [
    "a = 3\n",
    "id(a)"
   ]
  },
  {
   "cell_type": "code",
   "execution_count": 43,
   "id": "c838c4aa",
   "metadata": {},
   "outputs": [
    {
     "data": {
      "text/plain": [
       "140728935917424"
      ]
     },
     "execution_count": 43,
     "metadata": {},
     "output_type": "execute_result"
    }
   ],
   "source": [
    "id(3)"
   ]
  },
  {
   "cell_type": "code",
   "execution_count": 44,
   "id": "22d309a3",
   "metadata": {},
   "outputs": [
    {
     "data": {
      "text/plain": [
       "140728935917424"
      ]
     },
     "execution_count": 44,
     "metadata": {},
     "output_type": "execute_result"
    }
   ],
   "source": [
    "b = a\n",
    "id(b)"
   ]
  },
  {
   "cell_type": "code",
   "execution_count": 45,
   "id": "313b93da",
   "metadata": {},
   "outputs": [
    {
     "data": {
      "text/plain": [
       "140728935917456"
      ]
     },
     "execution_count": 45,
     "metadata": {},
     "output_type": "execute_result"
    }
   ],
   "source": [
    "id(4)"
   ]
  },
  {
   "cell_type": "markdown",
   "id": "6429d3a4",
   "metadata": {},
   "source": [
    "#### int\n",
    "- int(x)는 문자열 형태의 숫자나 소수점이 있는 숫자를 정수형태로 돌려주는 함수\n",
    "- 정수를 입력받으면 그대로 돌려줌"
   ]
  },
  {
   "cell_type": "code",
   "execution_count": 46,
   "id": "56858e09",
   "metadata": {},
   "outputs": [
    {
     "data": {
      "text/plain": [
       "3"
      ]
     },
     "execution_count": 46,
     "metadata": {},
     "output_type": "execute_result"
    }
   ],
   "source": [
    "int('3')"
   ]
  },
  {
   "cell_type": "code",
   "execution_count": 47,
   "id": "2ef0208d",
   "metadata": {},
   "outputs": [
    {
     "data": {
      "text/plain": [
       "3"
      ]
     },
     "execution_count": 47,
     "metadata": {},
     "output_type": "execute_result"
    }
   ],
   "source": [
    "int(3.1245)"
   ]
  },
  {
   "cell_type": "code",
   "execution_count": 48,
   "id": "d5db9f8f",
   "metadata": {},
   "outputs": [
    {
     "data": {
      "text/plain": [
       "3"
      ]
     },
     "execution_count": 48,
     "metadata": {},
     "output_type": "execute_result"
    }
   ],
   "source": [
    "int(3)"
   ]
  },
  {
   "cell_type": "markdown",
   "id": "2a269654",
   "metadata": {},
   "source": [
    "- int(x, radix) :radix진수로 표현된 문자열 x를 10진수로 변환하여 돌려줌"
   ]
  },
  {
   "cell_type": "code",
   "execution_count": 49,
   "id": "cfd0f30b",
   "metadata": {},
   "outputs": [
    {
     "data": {
      "text/plain": [
       "3"
      ]
     },
     "execution_count": 49,
     "metadata": {},
     "output_type": "execute_result"
    }
   ],
   "source": [
    "int('11',2)"
   ]
  },
  {
   "cell_type": "code",
   "execution_count": 50,
   "id": "a683dbae",
   "metadata": {},
   "outputs": [
    {
     "data": {
      "text/plain": [
       "26"
      ]
     },
     "execution_count": 50,
     "metadata": {},
     "output_type": "execute_result"
    }
   ],
   "source": [
    "int('1A',16)"
   ]
  },
  {
   "cell_type": "markdown",
   "id": "619d6744",
   "metadata": {},
   "source": [
    "#### isinstance\n",
    "- isinstance(object, class) : 첫번째 인수로 인스턴스, 두번째 인수로 클래스 이름을 받는다.\n",
    "- 입력으로 받은 인스턴스가 그 클래스의 인스턴스 인지를 판단하여 True / False를 돌려줌"
   ]
  },
  {
   "cell_type": "code",
   "execution_count": 53,
   "id": "878e673f",
   "metadata": {},
   "outputs": [
    {
     "data": {
      "text/plain": [
       "True"
      ]
     },
     "execution_count": 53,
     "metadata": {},
     "output_type": "execute_result"
    }
   ],
   "source": [
    "class Person:\n",
    "    pass\n",
    "\n",
    "a = Person()\n",
    "isinstance(a, Person)   # a라고 하는 Person클래스의 인스턴스가 \n",
    "                        # Person클래의 인스턴스인지 판단"
   ]
  },
  {
   "cell_type": "code",
   "execution_count": 54,
   "id": "e34e149e",
   "metadata": {},
   "outputs": [
    {
     "data": {
      "text/plain": [
       "False"
      ]
     },
     "execution_count": 54,
     "metadata": {},
     "output_type": "execute_result"
    }
   ],
   "source": [
    "b = 3\n",
    "isinstance(b, Person)"
   ]
  },
  {
   "cell_type": "markdown",
   "id": "717ab4fd",
   "metadata": {},
   "source": [
    "#### len\n",
    "- len(s)는 입력값 s의 길이를 돌려주는 함수"
   ]
  },
  {
   "cell_type": "code",
   "execution_count": 55,
   "id": "d1fcf241",
   "metadata": {},
   "outputs": [
    {
     "data": {
      "text/plain": [
       "6"
      ]
     },
     "execution_count": 55,
     "metadata": {},
     "output_type": "execute_result"
    }
   ],
   "source": [
    "len('python') # 문자열"
   ]
  },
  {
   "cell_type": "code",
   "execution_count": 56,
   "id": "26122ac0",
   "metadata": {},
   "outputs": [
    {
     "data": {
      "text/plain": [
       "3"
      ]
     },
     "execution_count": 56,
     "metadata": {},
     "output_type": "execute_result"
    }
   ],
   "source": [
    "len([1,2,3]) # 리스트"
   ]
  },
  {
   "cell_type": "code",
   "execution_count": 59,
   "id": "f1ccb6c2",
   "metadata": {},
   "outputs": [
    {
     "data": {
      "text/plain": [
       "2"
      ]
     },
     "execution_count": 59,
     "metadata": {},
     "output_type": "execute_result"
    }
   ],
   "source": [
    "len((1,'a')) # 튜플"
   ]
  },
  {
   "cell_type": "markdown",
   "id": "a9602e20",
   "metadata": {},
   "source": [
    "#### list\n",
    "- list(s)는 반복가능한 자료형 s를 입력받아 리스트로 만들어주는 함수"
   ]
  },
  {
   "cell_type": "code",
   "execution_count": 60,
   "id": "5f5b20d8",
   "metadata": {},
   "outputs": [
    {
     "data": {
      "text/plain": [
       "['p', 'y', 't', 'h', 'o', 'n']"
      ]
     },
     "execution_count": 60,
     "metadata": {},
     "output_type": "execute_result"
    }
   ],
   "source": [
    "list('python')"
   ]
  },
  {
   "cell_type": "code",
   "execution_count": 62,
   "id": "a8c4e72b",
   "metadata": {},
   "outputs": [
    {
     "data": {
      "text/plain": [
       "[1, 2, 3]"
      ]
     },
     "execution_count": 62,
     "metadata": {},
     "output_type": "execute_result"
    }
   ],
   "source": [
    "list((1,2,3))"
   ]
  },
  {
   "cell_type": "code",
   "execution_count": 64,
   "id": "c2461363",
   "metadata": {},
   "outputs": [
    {
     "data": {
      "text/plain": [
       "[1, 2, 3]"
      ]
     },
     "execution_count": 64,
     "metadata": {},
     "output_type": "execute_result"
    }
   ],
   "source": [
    "a = [1,2,3]\n",
    "b = list(a)  # list함수에 리스트를 입력으로 주면 \n",
    "             # 똑같은 리스트를 복사하여 돌려줌\n",
    "b"
   ]
  },
  {
   "cell_type": "markdown",
   "id": "79d0404d",
   "metadata": {},
   "source": [
    "#### map\n",
    "- map(f, iterable) : 함수(f)와 반복가능한(iterable)자료형을 입력으로 받는다.\n",
    "- map은 입력받은 자료형의 각 요소를 함수 f가 수행한 결과를 묶어서 돌려주는 함수\n",
    "- 람다 표현식과 같이 사용함"
   ]
  },
  {
   "cell_type": "code",
   "execution_count": 65,
   "id": "892e944c",
   "metadata": {},
   "outputs": [
    {
     "name": "stdout",
     "output_type": "stream",
     "text": [
      "[2, 4, 6, 8]\n"
     ]
    }
   ],
   "source": [
    "# 함수를 사용한 경우\n",
    "def two_times(numberList):\n",
    "    result = []\n",
    "    for number in numberList:\n",
    "        result.append(number*2)\n",
    "    return result\n",
    "\n",
    "result = two_times([1,2,3,4])\n",
    "print(result)"
   ]
  },
  {
   "cell_type": "code",
   "execution_count": 66,
   "id": "56939d52",
   "metadata": {},
   "outputs": [
    {
     "data": {
      "text/plain": [
       "[2, 4, 6, 8]"
      ]
     },
     "execution_count": 66,
     "metadata": {},
     "output_type": "execute_result"
    }
   ],
   "source": [
    "# map을 사용한 경우\n",
    "def two_times(x):\n",
    "    return x*2\n",
    "\n",
    "list(map(two_times, [1,2,3,4]))"
   ]
  },
  {
   "cell_type": "code",
   "execution_count": 68,
   "id": "c11b9073",
   "metadata": {},
   "outputs": [
    {
     "data": {
      "text/plain": [
       "[2, 4, 6, 8]"
      ]
     },
     "execution_count": 68,
     "metadata": {},
     "output_type": "execute_result"
    }
   ],
   "source": [
    "# map과 람다식을 사용한경우\n",
    "list(map(lambda x: x*2, [1,2,3,4]))"
   ]
  },
  {
   "cell_type": "markdown",
   "id": "483cc0d6",
   "metadata": {},
   "source": [
    "#### max\n",
    "- max(iterable) : 인수로 반복가능한 자료형을 입력받아 최대값을 리턴"
   ]
  },
  {
   "cell_type": "code",
   "execution_count": 69,
   "id": "1facebfc",
   "metadata": {},
   "outputs": [
    {
     "data": {
      "text/plain": [
       "3"
      ]
     },
     "execution_count": 69,
     "metadata": {},
     "output_type": "execute_result"
    }
   ],
   "source": [
    "max([1,2,3])"
   ]
  },
  {
   "cell_type": "code",
   "execution_count": 70,
   "id": "1c2489a8",
   "metadata": {},
   "outputs": [
    {
     "data": {
      "text/plain": [
       "'y'"
      ]
     },
     "execution_count": 70,
     "metadata": {},
     "output_type": "execute_result"
    }
   ],
   "source": [
    "max('python')"
   ]
  },
  {
   "cell_type": "code",
   "execution_count": 71,
   "id": "9bdad3bd",
   "metadata": {},
   "outputs": [
    {
     "data": {
      "text/plain": [
       "'z'"
      ]
     },
     "execution_count": 71,
     "metadata": {},
     "output_type": "execute_result"
    }
   ],
   "source": [
    "max('az')"
   ]
  },
  {
   "cell_type": "markdown",
   "id": "3e807584",
   "metadata": {},
   "source": [
    "#### min\n",
    "- min(iterable) : 인수로 반복가능한 자료형을 입력받아 최소값을 리턴"
   ]
  },
  {
   "cell_type": "code",
   "execution_count": 72,
   "id": "22e9a4ab",
   "metadata": {},
   "outputs": [
    {
     "data": {
      "text/plain": [
       "1"
      ]
     },
     "execution_count": 72,
     "metadata": {},
     "output_type": "execute_result"
    }
   ],
   "source": [
    "min([1,2,3])"
   ]
  },
  {
   "cell_type": "code",
   "execution_count": 73,
   "id": "a24b02d9",
   "metadata": {},
   "outputs": [
    {
     "data": {
      "text/plain": [
       "'h'"
      ]
     },
     "execution_count": 73,
     "metadata": {},
     "output_type": "execute_result"
    }
   ],
   "source": [
    "min('python')"
   ]
  },
  {
   "cell_type": "code",
   "execution_count": 74,
   "id": "6b1b3428",
   "metadata": {},
   "outputs": [
    {
     "data": {
      "text/plain": [
       "'a'"
      ]
     },
     "execution_count": 74,
     "metadata": {},
     "output_type": "execute_result"
    }
   ],
   "source": [
    "min('az')"
   ]
  },
  {
   "cell_type": "markdown",
   "id": "72768f64",
   "metadata": {},
   "source": [
    "#### ord\n",
    "- ord(c) : 문자의 아스키 코드값을 돌려주는 함수\n",
    "- chr(i) : 정수를 아스키코드로 변환해주는 함수\n",
    "- ord와 chr은 반대"
   ]
  },
  {
   "cell_type": "code",
   "execution_count": 81,
   "id": "c348fcde",
   "metadata": {},
   "outputs": [
    {
     "data": {
      "text/plain": [
       "97"
      ]
     },
     "execution_count": 81,
     "metadata": {},
     "output_type": "execute_result"
    }
   ],
   "source": [
    "ord('a')"
   ]
  },
  {
   "cell_type": "code",
   "execution_count": 82,
   "id": "bbe0c436",
   "metadata": {},
   "outputs": [
    {
     "data": {
      "text/plain": [
       "65"
      ]
     },
     "execution_count": 82,
     "metadata": {},
     "output_type": "execute_result"
    }
   ],
   "source": [
    "ord('A')"
   ]
  },
  {
   "cell_type": "code",
   "execution_count": 83,
   "id": "91476122",
   "metadata": {},
   "outputs": [
    {
     "data": {
      "text/plain": [
       "48"
      ]
     },
     "execution_count": 83,
     "metadata": {},
     "output_type": "execute_result"
    }
   ],
   "source": [
    "ord('0')"
   ]
  },
  {
   "cell_type": "code",
   "execution_count": 84,
   "id": "f78b85a8",
   "metadata": {},
   "outputs": [
    {
     "data": {
      "text/plain": [
       "35"
      ]
     },
     "execution_count": 84,
     "metadata": {},
     "output_type": "execute_result"
    }
   ],
   "source": [
    "ord('#')"
   ]
  },
  {
   "cell_type": "markdown",
   "id": "08011716",
   "metadata": {},
   "source": [
    "#### pow\n",
    "- pow(x,y)는 x의 y 제곱한 값\n",
    "- x ** y 와 동일"
   ]
  },
  {
   "cell_type": "code",
   "execution_count": 85,
   "id": "8771c394",
   "metadata": {},
   "outputs": [
    {
     "data": {
      "text/plain": [
       "16"
      ]
     },
     "execution_count": 85,
     "metadata": {},
     "output_type": "execute_result"
    }
   ],
   "source": [
    "pow(2,4)"
   ]
  },
  {
   "cell_type": "code",
   "execution_count": 86,
   "id": "f6badbf7",
   "metadata": {},
   "outputs": [
    {
     "data": {
      "text/plain": [
       "16"
      ]
     },
     "execution_count": 86,
     "metadata": {},
     "output_type": "execute_result"
    }
   ],
   "source": [
    "2**4"
   ]
  },
  {
   "cell_type": "code",
   "execution_count": 87,
   "id": "f0b8ecf3",
   "metadata": {},
   "outputs": [
    {
     "data": {
      "text/plain": [
       "27"
      ]
     },
     "execution_count": 87,
     "metadata": {},
     "output_type": "execute_result"
    }
   ],
   "source": [
    "pow(3,3)"
   ]
  },
  {
   "cell_type": "code",
   "execution_count": 88,
   "id": "c28c9008",
   "metadata": {},
   "outputs": [
    {
     "data": {
      "text/plain": [
       "27"
      ]
     },
     "execution_count": 88,
     "metadata": {},
     "output_type": "execute_result"
    }
   ],
   "source": [
    "3**3"
   ]
  },
  {
   "cell_type": "markdown",
   "id": "b111b160",
   "metadata": {},
   "source": [
    "#### round\n",
    "- round(number, [,ndigits] 함수는 숫자를 입력받아 반올림해주는 함수"
   ]
  },
  {
   "cell_type": "code",
   "execution_count": 89,
   "id": "679dff81",
   "metadata": {},
   "outputs": [
    {
     "data": {
      "text/plain": [
       "4"
      ]
     },
     "execution_count": 89,
     "metadata": {},
     "output_type": "execute_result"
    }
   ],
   "source": [
    "round(4.5)"
   ]
  },
  {
   "cell_type": "code",
   "execution_count": 90,
   "id": "6c2e4487",
   "metadata": {},
   "outputs": [
    {
     "data": {
      "text/plain": [
       "5"
      ]
     },
     "execution_count": 90,
     "metadata": {},
     "output_type": "execute_result"
    }
   ],
   "source": [
    "round(4.6)"
   ]
  },
  {
   "cell_type": "code",
   "execution_count": 91,
   "id": "105b7464",
   "metadata": {},
   "outputs": [
    {
     "data": {
      "text/plain": [
       "5"
      ]
     },
     "execution_count": 91,
     "metadata": {},
     "output_type": "execute_result"
    }
   ],
   "source": [
    "round(4.51)"
   ]
  },
  {
   "cell_type": "code",
   "execution_count": 92,
   "id": "48a038e1",
   "metadata": {},
   "outputs": [
    {
     "data": {
      "text/plain": [
       "4"
      ]
     },
     "execution_count": 92,
     "metadata": {},
     "output_type": "execute_result"
    }
   ],
   "source": [
    "round(4.50)"
   ]
  },
  {
   "cell_type": "code",
   "execution_count": 94,
   "id": "c3235efb",
   "metadata": {},
   "outputs": [
    {
     "data": {
      "text/plain": [
       "5.68"
      ]
     },
     "execution_count": 94,
     "metadata": {},
     "output_type": "execute_result"
    }
   ],
   "source": [
    "round(5.678, 2)  # 소수점 3자리에서 반올림"
   ]
  },
  {
   "cell_type": "markdown",
   "id": "32f34526",
   "metadata": {},
   "source": [
    "#### sorted\n",
    "- sorted(iterable) : 입력값을 정렬한 후 그 결과를 리턴"
   ]
  },
  {
   "cell_type": "code",
   "execution_count": 95,
   "id": "166b285e",
   "metadata": {},
   "outputs": [
    {
     "data": {
      "text/plain": [
       "[1, 2, 3]"
      ]
     },
     "execution_count": 95,
     "metadata": {},
     "output_type": "execute_result"
    }
   ],
   "source": [
    "sorted([3,1,2])"
   ]
  },
  {
   "cell_type": "code",
   "execution_count": 96,
   "id": "b7b15a3a",
   "metadata": {},
   "outputs": [
    {
     "data": {
      "text/plain": [
       "['a', 'b', 'k']"
      ]
     },
     "execution_count": 96,
     "metadata": {},
     "output_type": "execute_result"
    }
   ],
   "source": [
    "sorted(['a', 'k' , 'b'])"
   ]
  },
  {
   "cell_type": "code",
   "execution_count": 97,
   "id": "f0fa5f08",
   "metadata": {},
   "outputs": [
    {
     "data": {
      "text/plain": [
       "['e', 'o', 'r', 's', 'z']"
      ]
     },
     "execution_count": 97,
     "metadata": {},
     "output_type": "execute_result"
    }
   ],
   "source": [
    "sorted('zeros')"
   ]
  },
  {
   "cell_type": "code",
   "execution_count": 98,
   "id": "d7f20f2a",
   "metadata": {},
   "outputs": [
    {
     "data": {
      "text/plain": [
       "[1, 2, 3]"
      ]
     },
     "execution_count": 98,
     "metadata": {},
     "output_type": "execute_result"
    }
   ],
   "source": [
    "sorted((3,1,2))"
   ]
  },
  {
   "cell_type": "markdown",
   "id": "502d8719",
   "metadata": {},
   "source": [
    "#### str\n",
    "- str(object) : 문열 형태로 객체를 변환하여 리턴"
   ]
  },
  {
   "cell_type": "code",
   "execution_count": 99,
   "id": "64b29dbc",
   "metadata": {},
   "outputs": [
    {
     "data": {
      "text/plain": [
       "'3'"
      ]
     },
     "execution_count": 99,
     "metadata": {},
     "output_type": "execute_result"
    }
   ],
   "source": [
    "str(3)"
   ]
  },
  {
   "cell_type": "code",
   "execution_count": 100,
   "id": "d171b877",
   "metadata": {},
   "outputs": [
    {
     "data": {
      "text/plain": [
       "'hi'"
      ]
     },
     "execution_count": 100,
     "metadata": {},
     "output_type": "execute_result"
    }
   ],
   "source": [
    "str('hi')"
   ]
  },
  {
   "cell_type": "code",
   "execution_count": 101,
   "id": "fb898f91",
   "metadata": {},
   "outputs": [
    {
     "data": {
      "text/plain": [
       "'HI'"
      ]
     },
     "execution_count": 101,
     "metadata": {},
     "output_type": "execute_result"
    }
   ],
   "source": [
    "str('hi'.upper())"
   ]
  },
  {
   "cell_type": "markdown",
   "id": "710208f9",
   "metadata": {},
   "source": [
    "#### sum\n",
    "- sum(iterable) : 입력받은 리스트나 튜플의 모든 요소의 합을 리턴"
   ]
  },
  {
   "cell_type": "code",
   "execution_count": 102,
   "id": "7dab25e9",
   "metadata": {},
   "outputs": [
    {
     "data": {
      "text/plain": [
       "6"
      ]
     },
     "execution_count": 102,
     "metadata": {},
     "output_type": "execute_result"
    }
   ],
   "source": [
    "sum([1,2,3])"
   ]
  },
  {
   "cell_type": "code",
   "execution_count": 103,
   "id": "6ea700dc",
   "metadata": {},
   "outputs": [
    {
     "data": {
      "text/plain": [
       "6"
      ]
     },
     "execution_count": 103,
     "metadata": {},
     "output_type": "execute_result"
    }
   ],
   "source": [
    "sum((1,2,3))"
   ]
  },
  {
   "cell_type": "markdown",
   "id": "ec3495ff",
   "metadata": {},
   "source": [
    "#### tuple\n",
    "- tuple(iterable) : 반복가능한 자료형을 입력받아 튜플형태로 바꾸어 돌려주는 함수"
   ]
  },
  {
   "cell_type": "code",
   "execution_count": 104,
   "id": "bd1b7cba",
   "metadata": {},
   "outputs": [
    {
     "data": {
      "text/plain": [
       "('a', 'b', 'c')"
      ]
     },
     "execution_count": 104,
     "metadata": {},
     "output_type": "execute_result"
    }
   ],
   "source": [
    "tuple('abc')"
   ]
  },
  {
   "cell_type": "code",
   "execution_count": 105,
   "id": "ad8d0c87",
   "metadata": {},
   "outputs": [
    {
     "data": {
      "text/plain": [
       "(1, 2, 3)"
      ]
     },
     "execution_count": 105,
     "metadata": {},
     "output_type": "execute_result"
    }
   ],
   "source": [
    "tuple([1,2,3])"
   ]
  },
  {
   "cell_type": "code",
   "execution_count": 106,
   "id": "a2c45be3",
   "metadata": {},
   "outputs": [
    {
     "data": {
      "text/plain": [
       "(1, 2, 3)"
      ]
     },
     "execution_count": 106,
     "metadata": {},
     "output_type": "execute_result"
    }
   ],
   "source": [
    "tuple((1,2,3))"
   ]
  },
  {
   "cell_type": "markdown",
   "id": "a5fd6595",
   "metadata": {},
   "source": [
    "#### type\n",
    "- type(object) : 입력값의 자료형이 무엇인지 알려주는 함수"
   ]
  },
  {
   "cell_type": "code",
   "execution_count": 107,
   "id": "29d0b006",
   "metadata": {},
   "outputs": [
    {
     "data": {
      "text/plain": [
       "str"
      ]
     },
     "execution_count": 107,
     "metadata": {},
     "output_type": "execute_result"
    }
   ],
   "source": [
    "type('abc')"
   ]
  },
  {
   "cell_type": "code",
   "execution_count": 108,
   "id": "f6486984",
   "metadata": {},
   "outputs": [
    {
     "data": {
      "text/plain": [
       "list"
      ]
     },
     "execution_count": 108,
     "metadata": {},
     "output_type": "execute_result"
    }
   ],
   "source": [
    "type([])"
   ]
  },
  {
   "cell_type": "code",
   "execution_count": 109,
   "id": "feab5dfd",
   "metadata": {},
   "outputs": [
    {
     "data": {
      "text/plain": [
       "int"
      ]
     },
     "execution_count": 109,
     "metadata": {},
     "output_type": "execute_result"
    }
   ],
   "source": [
    "type(3)"
   ]
  },
  {
   "cell_type": "markdown",
   "id": "7a271a72",
   "metadata": {},
   "source": [
    "#### zip\n",
    "- zip(*iterable) : 동일한 개수로 이루어진 자료형을 묶어주는 역할을 하는 함수"
   ]
  },
  {
   "cell_type": "code",
   "execution_count": 110,
   "id": "f2417831",
   "metadata": {},
   "outputs": [
    {
     "data": {
      "text/plain": [
       "[(1, 4), (2, 5), (3, 6)]"
      ]
     },
     "execution_count": 110,
     "metadata": {},
     "output_type": "execute_result"
    }
   ],
   "source": [
    "list(zip([1,2,3],[4,5,6]))"
   ]
  },
  {
   "cell_type": "code",
   "execution_count": 112,
   "id": "8b517a69",
   "metadata": {},
   "outputs": [
    {
     "data": {
      "text/plain": [
       "[(1, 4, 7), (2, 5, 8), (3, 6, 9)]"
      ]
     },
     "execution_count": 112,
     "metadata": {},
     "output_type": "execute_result"
    }
   ],
   "source": [
    "list(zip([1,2,3],[4,5,6],[7,8,9]))"
   ]
  },
  {
   "cell_type": "code",
   "execution_count": 113,
   "id": "cd8ab91d",
   "metadata": {},
   "outputs": [
    {
     "data": {
      "text/plain": [
       "[('a', 'd'), ('b', 'e'), ('c', 'f')]"
      ]
     },
     "execution_count": 113,
     "metadata": {},
     "output_type": "execute_result"
    }
   ],
   "source": [
    "list(zip('abc','def'))"
   ]
  },
  {
   "cell_type": "code",
   "execution_count": null,
   "id": "ad96d2e4",
   "metadata": {},
   "outputs": [],
   "source": []
  }
 ],
 "metadata": {
  "kernelspec": {
   "display_name": "Python 3",
   "language": "python",
   "name": "python3"
  },
  "language_info": {
   "codemirror_mode": {
    "name": "ipython",
    "version": 3
   },
   "file_extension": ".py",
   "mimetype": "text/x-python",
   "name": "python",
   "nbconvert_exporter": "python",
   "pygments_lexer": "ipython3",
   "version": "3.8.8"
  }
 },
 "nbformat": 4,
 "nbformat_minor": 5
}
