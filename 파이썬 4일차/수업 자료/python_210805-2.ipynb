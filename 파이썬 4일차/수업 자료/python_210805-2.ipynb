{
 "cells": [
  {
   "cell_type": "markdown",
   "id": "fec58f2d",
   "metadata": {},
   "source": [
    "## 문자열 응용"
   ]
  },
  {
   "cell_type": "markdown",
   "id": "002c96b7",
   "metadata": {},
   "source": [
    "### 문자열 바꾸기 : replace('원래문자열', '바꿀문자열')"
   ]
  },
  {
   "cell_type": "code",
   "execution_count": 1,
   "id": "5affbfe2",
   "metadata": {},
   "outputs": [
    {
     "name": "stdout",
     "output_type": "stream",
     "text": [
      "Hello Python\n"
     ]
    }
   ],
   "source": [
    "str = \"Hello World\"\n",
    "print(str.replace('World', 'Python'))"
   ]
  },
  {
   "cell_type": "code",
   "execution_count": 2,
   "id": "1923538d",
   "metadata": {},
   "outputs": [
    {
     "name": "stdout",
     "output_type": "stream",
     "text": [
      "Hello World\n"
     ]
    }
   ],
   "source": [
    "print(str)"
   ]
  },
  {
   "cell_type": "code",
   "execution_count": 3,
   "id": "9b4f54eb",
   "metadata": {},
   "outputs": [
    {
     "name": "stdout",
     "output_type": "stream",
     "text": [
      "Hello Python\n"
     ]
    }
   ],
   "source": [
    "str = str.replace('World', 'Python')\n",
    "print(str)"
   ]
  },
  {
   "cell_type": "markdown",
   "id": "ca45906e",
   "metadata": {},
   "source": [
    "### 문자바꾸기\n",
    "\n",
    "- str.maketrans('원래문자','바꿀문자')"
   ]
  },
  {
   "cell_type": "code",
   "execution_count": 4,
   "id": "179d3a7d",
   "metadata": {},
   "outputs": [
    {
     "name": "stdout",
     "output_type": "stream",
     "text": [
      "1ppl2\n"
     ]
    }
   ],
   "source": [
    "table = str.maketrans('aeiou','12345')\n",
    "my_str = 'apple'\n",
    "print(my_str.translate(table))"
   ]
  },
  {
   "cell_type": "markdown",
   "id": "9844b00a",
   "metadata": {},
   "source": [
    "### 문자열 분리하기\n",
    "-split()"
   ]
  },
  {
   "cell_type": "code",
   "execution_count": 5,
   "id": "7941a87b",
   "metadata": {},
   "outputs": [
    {
     "name": "stdout",
     "output_type": "stream",
     "text": [
      "['apple', 'banana', 'kiwi', 'orange', 'pineapple', 'grape']\n"
     ]
    }
   ],
   "source": [
    "str = 'apple banana kiwi orange pineapple grape'\n",
    "print(str.split())"
   ]
  },
  {
   "cell_type": "code",
   "execution_count": 6,
   "id": "3ef20513",
   "metadata": {},
   "outputs": [
    {
     "name": "stdout",
     "output_type": "stream",
     "text": [
      "['apple', 'banana', 'kiwi', 'orange', 'pineapple', 'grape']\n"
     ]
    }
   ],
   "source": [
    "str = 'apple, banana, kiwi, orange, pineapple, grape'\n",
    "print(str.split(', '))"
   ]
  },
  {
   "cell_type": "markdown",
   "id": "a27138cc",
   "metadata": {},
   "source": [
    "### 리스트와 구분자로 연결하기\n",
    "\n",
    "- join()"
   ]
  },
  {
   "cell_type": "code",
   "execution_count": 7,
   "id": "10a6662d",
   "metadata": {},
   "outputs": [
    {
     "name": "stdout",
     "output_type": "stream",
     "text": [
      "apple banana kiwi orange pineapple grape\n"
     ]
    }
   ],
   "source": [
    "fruits = ['apple', 'banana', 'kiwi', 'orange', 'pineapple', 'grape']\n",
    "print(' '.join(fruits))"
   ]
  },
  {
   "cell_type": "code",
   "execution_count": 8,
   "id": "47e0ec22",
   "metadata": {},
   "outputs": [
    {
     "name": "stdout",
     "output_type": "stream",
     "text": [
      "apple-banana-kiwi-orange-pineapple-grape\n"
     ]
    }
   ],
   "source": [
    "print('-'.join(fruits))"
   ]
  },
  {
   "cell_type": "markdown",
   "id": "072a73e2",
   "metadata": {},
   "source": [
    "### 소문자를 대문자로 바꾸기\n",
    "\n",
    "- upper()"
   ]
  },
  {
   "cell_type": "code",
   "execution_count": 9,
   "id": "86323ed9",
   "metadata": {},
   "outputs": [
    {
     "name": "stdout",
     "output_type": "stream",
     "text": [
      "HELLO PYTHON\n"
     ]
    }
   ],
   "source": [
    "str = 'Hello python'\n",
    "print(str.upper())"
   ]
  },
  {
   "cell_type": "code",
   "execution_count": 10,
   "id": "07788005",
   "metadata": {},
   "outputs": [
    {
     "name": "stdout",
     "output_type": "stream",
     "text": [
      "HELLO PYTHON\n"
     ]
    }
   ],
   "source": [
    "upper_str = str.upper()\n",
    "print(upper_str)"
   ]
  },
  {
   "cell_type": "markdown",
   "id": "4387e398",
   "metadata": {},
   "source": [
    "### 대문자를 소문자로 바꾸기\n",
    "\n",
    "- lower()"
   ]
  },
  {
   "cell_type": "code",
   "execution_count": 11,
   "id": "a7bdd656",
   "metadata": {},
   "outputs": [
    {
     "name": "stdout",
     "output_type": "stream",
     "text": [
      "my favorite language is python\n"
     ]
    }
   ],
   "source": [
    "str = \"MY FAVORITE LANGUAGE is PYTHON\"\n",
    "print(str.lower())"
   ]
  },
  {
   "cell_type": "code",
   "execution_count": 12,
   "id": "9a7f850a",
   "metadata": {},
   "outputs": [
    {
     "name": "stdout",
     "output_type": "stream",
     "text": [
      "my favorite language is python\n"
     ]
    }
   ],
   "source": [
    "low_str = str.lower()\n",
    "print(low_str)"
   ]
  },
  {
   "cell_type": "markdown",
   "id": "f2981a8f",
   "metadata": {},
   "source": [
    "### 공백 삭제하기\n",
    "\n",
    "- lstrip() : 왼쪽 공백 삭제\n",
    "- rstrip() : 오른쪽 공백 삭제\n",
    "- strip() : 공백 삭제하기(양쪽 공백 삭제)"
   ]
  },
  {
   "cell_type": "code",
   "execution_count": 18,
   "id": "a840d30b",
   "metadata": {},
   "outputs": [
    {
     "name": "stdout",
     "output_type": "stream",
     "text": [
      "'     python     '\n",
      "'python     '\n"
     ]
    }
   ],
   "source": [
    "str = '     python     '\n",
    "print(\"'\",str,\"'\",sep='')\n",
    "print(\"'\",str.lstrip(),\"'\",sep='')"
   ]
  },
  {
   "cell_type": "code",
   "execution_count": 17,
   "id": "43d55347",
   "metadata": {},
   "outputs": [
    {
     "name": "stdout",
     "output_type": "stream",
     "text": [
      "'     python'\n"
     ]
    }
   ],
   "source": [
    "print(\"'\",str.rstrip(),\"'\",sep='')"
   ]
  },
  {
   "cell_type": "code",
   "execution_count": 19,
   "id": "43bd8aca",
   "metadata": {},
   "outputs": [
    {
     "name": "stdout",
     "output_type": "stream",
     "text": [
      "'python'\n"
     ]
    }
   ],
   "source": [
    "print(\"'\",str.strip(),\"'\",sep='')"
   ]
  },
  {
   "cell_type": "code",
   "execution_count": 21,
   "id": "92810a67",
   "metadata": {},
   "outputs": [
    {
     "name": "stdout",
     "output_type": "stream",
     "text": [
      "'     python    ......'\n"
     ]
    }
   ],
   "source": [
    "str = ',,,,,,     python    ......'\n",
    "print(\"'\",str.lstrip(',.'),\"'\",sep='')"
   ]
  },
  {
   "cell_type": "code",
   "execution_count": 22,
   "id": "9b2f7f53",
   "metadata": {},
   "outputs": [
    {
     "name": "stdout",
     "output_type": "stream",
     "text": [
      "',,,,,,     python    '\n"
     ]
    }
   ],
   "source": [
    "print(\"'\",str.rstrip(',.'),\"'\",sep='')"
   ]
  },
  {
   "cell_type": "code",
   "execution_count": 23,
   "id": "357179c2",
   "metadata": {},
   "outputs": [
    {
     "name": "stdout",
     "output_type": "stream",
     "text": [
      "'     python    '\n"
     ]
    }
   ],
   "source": [
    "print(\"'\",str.strip(',.'),\"'\",sep='')"
   ]
  },
  {
   "cell_type": "code",
   "execution_count": 25,
   "id": "3dcbb511",
   "metadata": {},
   "outputs": [
    {
     "name": "stdout",
     "output_type": "stream",
     "text": [
      "'     python    '\n"
     ]
    }
   ],
   "source": [
    "import string\n",
    "print(\"'\",str.strip(string.punctuation),\"'\",sep='')"
   ]
  },
  {
   "cell_type": "markdown",
   "id": "10d6f5ac",
   "metadata": {},
   "source": [
    "### 문자열 정렬하기\n",
    "\n",
    "- 왼쪽정렬 : ljust()\n",
    "- 오른정렬 : rjust()\n",
    "- 가운데정렬 : center()"
   ]
  },
  {
   "cell_type": "code",
   "execution_count": 26,
   "id": "3e67aa28",
   "metadata": {},
   "outputs": [
    {
     "name": "stdout",
     "output_type": "stream",
     "text": [
      "'python    '\n"
     ]
    }
   ],
   "source": [
    "str = 'python'\n",
    "print(\"'\",str.ljust(10),\"'\",sep='')"
   ]
  },
  {
   "cell_type": "code",
   "execution_count": 27,
   "id": "f8003b2d",
   "metadata": {},
   "outputs": [
    {
     "name": "stdout",
     "output_type": "stream",
     "text": [
      "'    python'\n"
     ]
    }
   ],
   "source": [
    "print(\"'\",str.rjust(10),\"'\",sep='')"
   ]
  },
  {
   "cell_type": "code",
   "execution_count": 28,
   "id": "05260d7e",
   "metadata": {},
   "outputs": [
    {
     "name": "stdout",
     "output_type": "stream",
     "text": [
      "'  python  '\n"
     ]
    }
   ],
   "source": [
    "print(\"'\",str.center(10),\"'\",sep='')"
   ]
  },
  {
   "cell_type": "markdown",
   "id": "bd38b669",
   "metadata": {},
   "source": [
    "### 문자열에 0채우기\n",
    "- zfill()"
   ]
  },
  {
   "cell_type": "code",
   "execution_count": 29,
   "id": "60b947c8",
   "metadata": {},
   "outputs": [
    {
     "name": "stdout",
     "output_type": "stream",
     "text": [
      "0035\n"
     ]
    }
   ],
   "source": [
    "str = '35'\n",
    "print(str.zfill(4))"
   ]
  },
  {
   "cell_type": "code",
   "execution_count": 30,
   "id": "9802d905",
   "metadata": {},
   "outputs": [
    {
     "name": "stdout",
     "output_type": "stream",
     "text": [
      "003.12\n"
     ]
    }
   ],
   "source": [
    "str = '3.12'\n",
    "print(str.zfill(6))"
   ]
  },
  {
   "cell_type": "code",
   "execution_count": 31,
   "id": "84510b05",
   "metadata": {},
   "outputs": [
    {
     "name": "stdout",
     "output_type": "stream",
     "text": [
      "00000Hello\n"
     ]
    }
   ],
   "source": [
    "str = 'Hello'\n",
    "print(str.zfill(10))"
   ]
  },
  {
   "cell_type": "markdown",
   "id": "22993eb1",
   "metadata": {},
   "source": [
    "### 문자열 위치 찾기\n",
    "\n",
    "- find() / rfind()\n",
    "- index() / rindex()"
   ]
  },
  {
   "cell_type": "code",
   "execution_count": 32,
   "id": "dccf246f",
   "metadata": {},
   "outputs": [
    {
     "name": "stdout",
     "output_type": "stream",
     "text": [
      "2\n"
     ]
    }
   ],
   "source": [
    "str = 'apple pineapple'\n",
    "print(str.find('pl'))"
   ]
  },
  {
   "cell_type": "code",
   "execution_count": 34,
   "id": "dc735abf",
   "metadata": {},
   "outputs": [
    {
     "name": "stdout",
     "output_type": "stream",
     "text": [
      "-1\n"
     ]
    }
   ],
   "source": [
    "print(str.find('xxx'))  # 찾는 문자열이 없으면 -1을 리턴"
   ]
  },
  {
   "cell_type": "code",
   "execution_count": 35,
   "id": "6f94060a",
   "metadata": {},
   "outputs": [
    {
     "name": "stdout",
     "output_type": "stream",
     "text": [
      "12\n"
     ]
    }
   ],
   "source": [
    "print(str.rfind('pl'))"
   ]
  },
  {
   "cell_type": "code",
   "execution_count": 36,
   "id": "d1f29d60",
   "metadata": {},
   "outputs": [
    {
     "name": "stdout",
     "output_type": "stream",
     "text": [
      "-1\n"
     ]
    }
   ],
   "source": [
    "print(str.rfind('xxx'))  # 찾는 문자열이 없으면 -1을 리턴"
   ]
  },
  {
   "cell_type": "code",
   "execution_count": 37,
   "id": "9bf8ccd8",
   "metadata": {},
   "outputs": [
    {
     "name": "stdout",
     "output_type": "stream",
     "text": [
      "2\n"
     ]
    }
   ],
   "source": [
    "print(str.index('pl'))"
   ]
  },
  {
   "cell_type": "code",
   "execution_count": 39,
   "id": "24fa0f19",
   "metadata": {},
   "outputs": [
    {
     "ename": "ValueError",
     "evalue": "substring not found",
     "output_type": "error",
     "traceback": [
      "\u001b[1;31m---------------------------------------------------------------------------\u001b[0m",
      "\u001b[1;31mValueError\u001b[0m                                Traceback (most recent call last)",
      "\u001b[1;32m<ipython-input-39-8c262bfcb9c8>\u001b[0m in \u001b[0;36m<module>\u001b[1;34m\u001b[0m\n\u001b[1;32m----> 1\u001b[1;33m \u001b[0mprint\u001b[0m\u001b[1;33m(\u001b[0m\u001b[0mstr\u001b[0m\u001b[1;33m.\u001b[0m\u001b[0mindex\u001b[0m\u001b[1;33m(\u001b[0m\u001b[1;34m'xxx'\u001b[0m\u001b[1;33m)\u001b[0m\u001b[1;33m)\u001b[0m  \u001b[1;31m# 찾는 문자열이 없으면 에러발생\u001b[0m\u001b[1;33m\u001b[0m\u001b[1;33m\u001b[0m\u001b[0m\n\u001b[0m",
      "\u001b[1;31mValueError\u001b[0m: substring not found"
     ]
    }
   ],
   "source": [
    "print(str.index('xxx'))  # 찾는 문자열이 없으면 에러발생"
   ]
  },
  {
   "cell_type": "code",
   "execution_count": 43,
   "id": "0cdc1dde",
   "metadata": {},
   "outputs": [
    {
     "name": "stdout",
     "output_type": "stream",
     "text": [
      "찾는 문자열 없습니다.\n"
     ]
    }
   ],
   "source": [
    "if 'xxx' in str:\n",
    "    str.index('xxx')\n",
    "else:\n",
    "    print('찾는 문자열 없습니다.')"
   ]
  },
  {
   "cell_type": "code",
   "execution_count": 40,
   "id": "03ccd515",
   "metadata": {},
   "outputs": [
    {
     "name": "stdout",
     "output_type": "stream",
     "text": [
      "12\n"
     ]
    }
   ],
   "source": [
    "print(str.rindex('pl'))"
   ]
  },
  {
   "cell_type": "code",
   "execution_count": 41,
   "id": "486d8c38",
   "metadata": {},
   "outputs": [
    {
     "ename": "ValueError",
     "evalue": "substring not found",
     "output_type": "error",
     "traceback": [
      "\u001b[1;31m---------------------------------------------------------------------------\u001b[0m",
      "\u001b[1;31mValueError\u001b[0m                                Traceback (most recent call last)",
      "\u001b[1;32m<ipython-input-41-540dd0cf8e0c>\u001b[0m in \u001b[0;36m<module>\u001b[1;34m\u001b[0m\n\u001b[1;32m----> 1\u001b[1;33m \u001b[0mprint\u001b[0m\u001b[1;33m(\u001b[0m\u001b[0mstr\u001b[0m\u001b[1;33m.\u001b[0m\u001b[0mrindex\u001b[0m\u001b[1;33m(\u001b[0m\u001b[1;34m'xxx'\u001b[0m\u001b[1;33m)\u001b[0m\u001b[1;33m)\u001b[0m  \u001b[1;31m# 찾는 문자열이 없으면 에러발생\u001b[0m\u001b[1;33m\u001b[0m\u001b[1;33m\u001b[0m\u001b[0m\n\u001b[0m",
      "\u001b[1;31mValueError\u001b[0m: substring not found"
     ]
    }
   ],
   "source": [
    "print(str.rindex('xxx'))  # 찾는 문자열이 없으면 에러발생"
   ]
  },
  {
   "cell_type": "markdown",
   "id": "4b7c3db2",
   "metadata": {},
   "source": [
    "### 찾는 문자열의 개수 세기\n",
    "\n",
    "- count()"
   ]
  },
  {
   "cell_type": "code",
   "execution_count": 44,
   "id": "76929d8b",
   "metadata": {},
   "outputs": [
    {
     "name": "stdout",
     "output_type": "stream",
     "text": [
      "2\n"
     ]
    }
   ],
   "source": [
    "str = 'apple pineapple'\n",
    "print(str.count('pl'))"
   ]
  },
  {
   "cell_type": "markdown",
   "id": "f6546302",
   "metadata": {},
   "source": [
    "## 파일 처리"
   ]
  },
  {
   "cell_type": "markdown",
   "id": "122b9441",
   "metadata": {},
   "source": [
    "### 파일 저장하기\n",
    "\n",
    "- 파일객체 = open(파일이름, 파일 모드)\n",
    "- 파일객체.write('문자열')\n",
    "- 파일객체.close()"
   ]
  },
  {
   "cell_type": "code",
   "execution_count": 45,
   "id": "0c7972d5",
   "metadata": {},
   "outputs": [],
   "source": [
    "file = open('hello.txt','w')\n",
    "file.write('hello python\\n')\n",
    "file.close()"
   ]
  },
  {
   "cell_type": "markdown",
   "id": "cb5e9bce",
   "metadata": {},
   "source": [
    "### with open 사용하기\n",
    "\n",
    "- 파일객체.close() 생략가능\n",
    "- 파이썬에서 객체를 자동으로 닫아줌"
   ]
  },
  {
   "cell_type": "code",
   "execution_count": 46,
   "id": "170a61e0",
   "metadata": {},
   "outputs": [],
   "source": [
    "with open('hello.txt','w') as file:\n",
    "    file.write('Hello python')"
   ]
  },
  {
   "cell_type": "markdown",
   "id": "b7322ddb",
   "metadata": {},
   "source": [
    "### 파일 읽어오기\n",
    "- 파일객체 = open(파일이름, 'r')\n",
    "- 파일객체.read()\n",
    "- 파일객체.close()"
   ]
  },
  {
   "cell_type": "code",
   "execution_count": 47,
   "id": "06334d69",
   "metadata": {},
   "outputs": [
    {
     "name": "stdout",
     "output_type": "stream",
     "text": [
      "Hello python\n"
     ]
    }
   ],
   "source": [
    "with open('hello.txt','r') as file:\n",
    "    s=file.read()\n",
    "    print(s)"
   ]
  },
  {
   "cell_type": "markdown",
   "id": "364d1198",
   "metadata": {},
   "source": [
    "### 반복문을 사용하여 여러줄의 문자열을 파일에 쓰기"
   ]
  },
  {
   "cell_type": "code",
   "execution_count": 51,
   "id": "a0b5f360",
   "metadata": {},
   "outputs": [],
   "source": [
    "with open('hello.txt','w') as file:\n",
    "    for i in range(5):\n",
    "        file.write('{} : Hello python\\n'.format(i+1))"
   ]
  },
  {
   "cell_type": "markdown",
   "id": "64f87585",
   "metadata": {},
   "source": [
    "- 저장된 파일 읽어오기"
   ]
  },
  {
   "cell_type": "code",
   "execution_count": 52,
   "id": "7fc57d6f",
   "metadata": {},
   "outputs": [
    {
     "name": "stdout",
     "output_type": "stream",
     "text": [
      "1 : Hello python\n",
      "2 : Hello python\n",
      "3 : Hello python\n",
      "4 : Hello python\n",
      "5 : Hello python\n",
      "\n"
     ]
    }
   ],
   "source": [
    "with open('hello.txt','r') as file:\n",
    "    s=file.read()\n",
    "    print(s)"
   ]
  },
  {
   "cell_type": "markdown",
   "id": "5e7ec03e",
   "metadata": {},
   "source": [
    "### 리스트에 있는 문자열을 파일에 쓰기\n",
    "\n",
    "- 파일객체.writelines(문자열 리스트)"
   ]
  },
  {
   "cell_type": "code",
   "execution_count": 53,
   "id": "d61162cf",
   "metadata": {},
   "outputs": [],
   "source": [
    "lines = ['Hello\\n', \"I love Fruits\\n\", \"Python\\n\"]\n",
    "\n",
    "with open('hello.txt','w') as file:\n",
    "    file.writelines(lines)"
   ]
  },
  {
   "cell_type": "code",
   "execution_count": 54,
   "id": "d5ebce15",
   "metadata": {},
   "outputs": [
    {
     "name": "stdout",
     "output_type": "stream",
     "text": [
      "Hello\n",
      "I love Fruits\n",
      "Python\n",
      "\n"
     ]
    }
   ],
   "source": [
    "with open('hello.txt','r') as file:\n",
    "    s=file.read()\n",
    "    print(s)"
   ]
  },
  {
   "cell_type": "markdown",
   "id": "06baf5e6",
   "metadata": {},
   "source": [
    "### 파일의 내용을 한줄씩 리스트로 가져오기\n",
    "\n",
    "-  변수 = 파일객체.readlines()"
   ]
  },
  {
   "cell_type": "code",
   "execution_count": 55,
   "id": "650551f9",
   "metadata": {},
   "outputs": [
    {
     "name": "stdout",
     "output_type": "stream",
     "text": [
      "['Hello\\n', 'I love Fruits\\n', 'Python\\n']\n"
     ]
    }
   ],
   "source": [
    "with open('hello.txt','r') as file:\n",
    "    lines = file.readlines()\n",
    "    print(lines)"
   ]
  },
  {
   "cell_type": "markdown",
   "id": "62242663",
   "metadata": {},
   "source": [
    "### 파일의 내용을 한줄씩 읽어오기\n",
    "\n",
    "- 변수 = 파일객체.readline()"
   ]
  },
  {
   "cell_type": "code",
   "execution_count": 59,
   "id": "d75eea88",
   "metadata": {},
   "outputs": [
    {
     "name": "stdout",
     "output_type": "stream",
     "text": [
      "Hello\n",
      "I love Fruits\n",
      "Python\n"
     ]
    }
   ],
   "source": [
    "with open('hello.txt','r') as file:\n",
    "    line = None\n",
    "    while line != '':\n",
    "        line = file.readline()\n",
    "        print(line, end=\"\")"
   ]
  },
  {
   "cell_type": "code",
   "execution_count": 60,
   "id": "c41346b4",
   "metadata": {},
   "outputs": [
    {
     "name": "stdout",
     "output_type": "stream",
     "text": [
      "Hello\n",
      "I love Fruits\n",
      "Python\n",
      "\n"
     ]
    }
   ],
   "source": [
    "with open('hello.txt','r') as file:\n",
    "    line = None\n",
    "    while line != '':\n",
    "        line = file.readline()\n",
    "        print(line.strip('\\n'))"
   ]
  },
  {
   "cell_type": "code",
   "execution_count": null,
   "id": "225e690b",
   "metadata": {},
   "outputs": [],
   "source": []
  }
 ],
 "metadata": {
  "kernelspec": {
   "display_name": "Python 3",
   "language": "python",
   "name": "python3"
  },
  "language_info": {
   "codemirror_mode": {
    "name": "ipython",
    "version": 3
   },
   "file_extension": ".py",
   "mimetype": "text/x-python",
   "name": "python",
   "nbconvert_exporter": "python",
   "pygments_lexer": "ipython3",
   "version": "3.8.8"
  }
 },
 "nbformat": 4,
 "nbformat_minor": 5
}
