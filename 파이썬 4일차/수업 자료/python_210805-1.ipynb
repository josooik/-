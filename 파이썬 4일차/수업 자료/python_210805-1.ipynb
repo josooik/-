{
 "cells": [
  {
   "cell_type": "markdown",
   "id": "445d9fca",
   "metadata": {},
   "source": [
    "### 함수 만들기"
   ]
  },
  {
   "cell_type": "code",
   "execution_count": 1,
   "id": "3dfbc50f",
   "metadata": {},
   "outputs": [],
   "source": [
    "def print_numbers(a,b,c):\n",
    "    print(a)\n",
    "    print(b)\n",
    "    print(c)"
   ]
  },
  {
   "cell_type": "code",
   "execution_count": 2,
   "id": "0fc3585d",
   "metadata": {},
   "outputs": [
    {
     "name": "stdout",
     "output_type": "stream",
     "text": [
      "10\n",
      "20\n",
      "30\n"
     ]
    }
   ],
   "source": [
    "print_numbers(10,20,30)"
   ]
  },
  {
   "cell_type": "markdown",
   "id": "55f9b257",
   "metadata": {},
   "source": [
    "### 언패킹 사용하기\n",
    "\n",
    "- 함수(*리스트)\n",
    "- 함수(*튜플)\n",
    "- 기존에 만들어 놓은 함수의 매개변수와 리스트의 길이가 같아야 함"
   ]
  },
  {
   "cell_type": "code",
   "execution_count": 3,
   "id": "9f9c95af",
   "metadata": {},
   "outputs": [
    {
     "name": "stdout",
     "output_type": "stream",
     "text": [
      "10\n",
      "20\n",
      "30\n"
     ]
    }
   ],
   "source": [
    "x = [10,20,30]\n",
    "print_numbers(*x)"
   ]
  },
  {
   "cell_type": "code",
   "execution_count": 5,
   "id": "42d3d033",
   "metadata": {},
   "outputs": [
    {
     "ename": "TypeError",
     "evalue": "print_numbers() missing 1 required positional argument: 'c'",
     "output_type": "error",
     "traceback": [
      "\u001b[1;31m---------------------------------------------------------------------------\u001b[0m",
      "\u001b[1;31mTypeError\u001b[0m                                 Traceback (most recent call last)",
      "\u001b[1;32m<ipython-input-5-7f820e686eda>\u001b[0m in \u001b[0;36m<module>\u001b[1;34m\u001b[0m\n\u001b[0;32m      1\u001b[0m \u001b[0mx\u001b[0m \u001b[1;33m=\u001b[0m \u001b[1;33m[\u001b[0m\u001b[1;36m10\u001b[0m\u001b[1;33m,\u001b[0m\u001b[1;36m20\u001b[0m\u001b[1;33m]\u001b[0m\u001b[1;33m\u001b[0m\u001b[1;33m\u001b[0m\u001b[0m\n\u001b[1;32m----> 2\u001b[1;33m \u001b[0mprint_numbers\u001b[0m\u001b[1;33m(\u001b[0m\u001b[1;33m*\u001b[0m\u001b[0mx\u001b[0m\u001b[1;33m)\u001b[0m      \u001b[1;31m# 길이가 달라서 에러 발생\u001b[0m\u001b[1;33m\u001b[0m\u001b[1;33m\u001b[0m\u001b[0m\n\u001b[0m",
      "\u001b[1;31mTypeError\u001b[0m: print_numbers() missing 1 required positional argument: 'c'"
     ]
    }
   ],
   "source": [
    "x = [10,20]\n",
    "print_numbers(*x)      # 길이가 달라서 에러 발생"
   ]
  },
  {
   "cell_type": "markdown",
   "id": "84ccfc4c",
   "metadata": {},
   "source": [
    "### 가변인수 함수 만들기\n",
    "\n",
    "def 함수이름(*매개변수):\n",
    "    \n",
    "    코드"
   ]
  },
  {
   "cell_type": "code",
   "execution_count": 6,
   "id": "05148274",
   "metadata": {},
   "outputs": [],
   "source": [
    "def print_numbers(*args):\n",
    "    for arg in args:\n",
    "        print(arg)"
   ]
  },
  {
   "cell_type": "code",
   "execution_count": 7,
   "id": "e25d6720",
   "metadata": {},
   "outputs": [
    {
     "name": "stdout",
     "output_type": "stream",
     "text": [
      "10\n"
     ]
    }
   ],
   "source": [
    "print_numbers(10)"
   ]
  },
  {
   "cell_type": "code",
   "execution_count": 8,
   "id": "bf95d205",
   "metadata": {},
   "outputs": [
    {
     "name": "stdout",
     "output_type": "stream",
     "text": [
      "10\n",
      "20\n",
      "30\n",
      "40\n"
     ]
    }
   ],
   "source": [
    "print_numbers(10,20,30,40)"
   ]
  },
  {
   "cell_type": "code",
   "execution_count": 9,
   "id": "d227bd6c",
   "metadata": {},
   "outputs": [
    {
     "name": "stdout",
     "output_type": "stream",
     "text": [
      "10\n"
     ]
    }
   ],
   "source": [
    "x = [10]\n",
    "print_numbers(*x)"
   ]
  },
  {
   "cell_type": "code",
   "execution_count": 10,
   "id": "98ea8b4a",
   "metadata": {},
   "outputs": [
    {
     "name": "stdout",
     "output_type": "stream",
     "text": [
      "10\n",
      "20\n",
      "30\n",
      "40\n"
     ]
    }
   ],
   "source": [
    "x = [10,20,30,40]\n",
    "print_numbers(*x)"
   ]
  },
  {
   "cell_type": "markdown",
   "id": "dd39a057",
   "metadata": {},
   "source": [
    "#### 고정인수와 가변 인수 함께 사용"
   ]
  },
  {
   "cell_type": "code",
   "execution_count": 14,
   "id": "50885b7c",
   "metadata": {},
   "outputs": [],
   "source": [
    "def print_numbers(a, *args):\n",
    "    print(a)\n",
    "    print(args)"
   ]
  },
  {
   "cell_type": "code",
   "execution_count": 15,
   "id": "cd917644",
   "metadata": {},
   "outputs": [
    {
     "name": "stdout",
     "output_type": "stream",
     "text": [
      "1\n",
      "()\n"
     ]
    }
   ],
   "source": [
    "print_numbers(1)"
   ]
  },
  {
   "cell_type": "code",
   "execution_count": 16,
   "id": "cfc63f93",
   "metadata": {},
   "outputs": [
    {
     "name": "stdout",
     "output_type": "stream",
     "text": [
      "1\n",
      "(10, 20)\n"
     ]
    }
   ],
   "source": [
    "print_numbers(1,10,20)"
   ]
  },
  {
   "cell_type": "code",
   "execution_count": 17,
   "id": "1ba83c5e",
   "metadata": {},
   "outputs": [
    {
     "name": "stdout",
     "output_type": "stream",
     "text": [
      "10\n",
      "(20, 30)\n"
     ]
    }
   ],
   "source": [
    "x = [10,20,30]\n",
    "print_numbers(*x)"
   ]
  },
  {
   "cell_type": "markdown",
   "id": "1bd5c160",
   "metadata": {},
   "source": [
    "### 키워드 인수 사용"
   ]
  },
  {
   "cell_type": "code",
   "execution_count": 18,
   "id": "1196486b",
   "metadata": {},
   "outputs": [],
   "source": [
    "def personal_info(name, age, address):\n",
    "    print(\"이름:\",name)\n",
    "    print(\"나이:\",age)\n",
    "    print(\"주소:\",address)"
   ]
  },
  {
   "cell_type": "code",
   "execution_count": 19,
   "id": "e8ec345e",
   "metadata": {},
   "outputs": [
    {
     "name": "stdout",
     "output_type": "stream",
     "text": [
      "이름: 홍길동\n",
      "나이: 20\n",
      "주소: 대구시 동구 신암동\n"
     ]
    }
   ],
   "source": [
    "personal_info(\"홍길동\",20,\"대구시 동구 신암동\")"
   ]
  },
  {
   "cell_type": "code",
   "execution_count": 23,
   "id": "cc36ad8b",
   "metadata": {},
   "outputs": [
    {
     "name": "stdout",
     "output_type": "stream",
     "text": [
      "이름: 홍길동\n",
      "나이: 20\n",
      "주소: 대구시 동구 신암동\n"
     ]
    }
   ],
   "source": [
    "personal_info(name=\"홍길동\",age=20,address=\"대구시 동구 신암동\")"
   ]
  },
  {
   "cell_type": "markdown",
   "id": "8ec485cc",
   "metadata": {},
   "source": [
    "#### keyword의 위치를 바꿔도 결과가 바뀌지 않음"
   ]
  },
  {
   "cell_type": "code",
   "execution_count": 22,
   "id": "a79a7da6",
   "metadata": {},
   "outputs": [
    {
     "name": "stdout",
     "output_type": "stream",
     "text": [
      "이름: 홍길동\n",
      "나이: 20\n",
      "주소: 대구시 동구 신암동\n"
     ]
    }
   ],
   "source": [
    "personal_info(age=20,address=\"대구시 동구 신암동\",name=\"홍길동\")"
   ]
  },
  {
   "cell_type": "markdown",
   "id": "7cf6139f",
   "metadata": {},
   "source": [
    "### 딕셔너리 사용하기\n",
    "\n",
    "- 함수(**딕셔너리)\n",
    "- 함수의 매개변수의 이름과 딕셔너리의 키값이 같아야 함\n",
    "- 함수의 매개변수 개수와 딕셔너리의 길이가 같아야 함"
   ]
  },
  {
   "cell_type": "code",
   "execution_count": 24,
   "id": "336da9ee",
   "metadata": {},
   "outputs": [],
   "source": [
    "def personal_info(name, age, address):\n",
    "    print(\"이름:\",name)\n",
    "    print(\"나이:\",age)\n",
    "    print(\"주소:\",address)"
   ]
  },
  {
   "cell_type": "code",
   "execution_count": 26,
   "id": "7ef78c91",
   "metadata": {},
   "outputs": [
    {
     "name": "stdout",
     "output_type": "stream",
     "text": [
      "이름: 홍길동\n",
      "나이: 20\n",
      "주소: 대구시 동구 신암동\n"
     ]
    }
   ],
   "source": [
    "person = {'name':\"홍길동\",'age':20,'address':\"대구시 동구 신암동\"}\n",
    "personal_info(**person)"
   ]
  },
  {
   "cell_type": "code",
   "execution_count": 28,
   "id": "51da0459",
   "metadata": {},
   "outputs": [
    {
     "name": "stdout",
     "output_type": "stream",
     "text": [
      "이름: 홍길동\n",
      "나이: 20\n",
      "주소: 대구시 동구 신암동\n"
     ]
    }
   ],
   "source": [
    "personal_info(**{'name':\"홍길동\",'age':20,'address':\"대구시 동구 신암동\"})"
   ]
  },
  {
   "cell_type": "code",
   "execution_count": 29,
   "id": "448c1480",
   "metadata": {},
   "outputs": [
    {
     "ename": "TypeError",
     "evalue": "personal_info() got an unexpected keyword argument 'old'",
     "output_type": "error",
     "traceback": [
      "\u001b[1;31m---------------------------------------------------------------------------\u001b[0m",
      "\u001b[1;31mTypeError\u001b[0m                                 Traceback (most recent call last)",
      "\u001b[1;32m<ipython-input-29-8957d7a43592>\u001b[0m in \u001b[0;36m<module>\u001b[1;34m\u001b[0m\n\u001b[1;32m----> 1\u001b[1;33m \u001b[0mpersonal_info\u001b[0m\u001b[1;33m(\u001b[0m\u001b[1;33m**\u001b[0m\u001b[1;33m{\u001b[0m\u001b[1;34m'name'\u001b[0m\u001b[1;33m:\u001b[0m\u001b[1;34m\"홍길동\"\u001b[0m\u001b[1;33m,\u001b[0m\u001b[1;34m'old'\u001b[0m\u001b[1;33m:\u001b[0m\u001b[1;36m20\u001b[0m\u001b[1;33m,\u001b[0m\u001b[1;34m'address'\u001b[0m\u001b[1;33m:\u001b[0m\u001b[1;34m\"대구시 동구 신암동\"\u001b[0m\u001b[1;33m}\u001b[0m\u001b[1;33m)\u001b[0m\u001b[1;33m\u001b[0m\u001b[1;33m\u001b[0m\u001b[0m\n\u001b[0m",
      "\u001b[1;31mTypeError\u001b[0m: personal_info() got an unexpected keyword argument 'old'"
     ]
    }
   ],
   "source": [
    "personal_info(**{'name':\"홍길동\",'old':20,'address':\"대구시 동구 신암동\"})"
   ]
  },
  {
   "cell_type": "code",
   "execution_count": 30,
   "id": "75812741",
   "metadata": {},
   "outputs": [
    {
     "ename": "TypeError",
     "evalue": "personal_info() missing 1 required positional argument: 'age'",
     "output_type": "error",
     "traceback": [
      "\u001b[1;31m---------------------------------------------------------------------------\u001b[0m",
      "\u001b[1;31mTypeError\u001b[0m                                 Traceback (most recent call last)",
      "\u001b[1;32m<ipython-input-30-e4ba2d52f34f>\u001b[0m in \u001b[0;36m<module>\u001b[1;34m\u001b[0m\n\u001b[1;32m----> 1\u001b[1;33m \u001b[0mpersonal_info\u001b[0m\u001b[1;33m(\u001b[0m\u001b[1;33m**\u001b[0m\u001b[1;33m{\u001b[0m\u001b[1;34m'name'\u001b[0m\u001b[1;33m:\u001b[0m\u001b[1;34m\"홍길동\"\u001b[0m\u001b[1;33m,\u001b[0m\u001b[1;34m'address'\u001b[0m\u001b[1;33m:\u001b[0m\u001b[1;34m\"대구시 동구 신암동\"\u001b[0m\u001b[1;33m}\u001b[0m\u001b[1;33m)\u001b[0m\u001b[1;33m\u001b[0m\u001b[1;33m\u001b[0m\u001b[0m\n\u001b[0m",
      "\u001b[1;31mTypeError\u001b[0m: personal_info() missing 1 required positional argument: 'age'"
     ]
    }
   ],
   "source": [
    "personal_info(**{'name':\"홍길동\",'address':\"대구시 동구 신암동\"})"
   ]
  },
  {
   "cell_type": "markdown",
   "id": "200245b9",
   "metadata": {},
   "source": [
    "####  키워드를 사용하는 매개변수\n",
    "def 함수이름(**매개변수):\n",
    "\n",
    "    코드"
   ]
  },
  {
   "cell_type": "code",
   "execution_count": 36,
   "id": "d633ca48",
   "metadata": {},
   "outputs": [],
   "source": [
    "def personal_info(**kwargs):\n",
    "    for kw, arg in kwargs.items():\n",
    "        print(kw, \" : \",arg, sep='')"
   ]
  },
  {
   "cell_type": "code",
   "execution_count": 37,
   "id": "c8e15694",
   "metadata": {},
   "outputs": [
    {
     "name": "stdout",
     "output_type": "stream",
     "text": [
      "name : 홍길동\n"
     ]
    }
   ],
   "source": [
    "personal_info(name='홍길동')"
   ]
  },
  {
   "cell_type": "code",
   "execution_count": 38,
   "id": "f0304fec",
   "metadata": {},
   "outputs": [
    {
     "name": "stdout",
     "output_type": "stream",
     "text": [
      "name : 홍길동\n",
      "age : 20\n",
      "address : 대구시 동구 신암동\n"
     ]
    }
   ],
   "source": [
    "personal_info(name='홍길동', age=20, address='대구시 동구 신암동')"
   ]
  },
  {
   "cell_type": "code",
   "execution_count": 39,
   "id": "10c47750",
   "metadata": {},
   "outputs": [
    {
     "name": "stdout",
     "output_type": "stream",
     "text": [
      "name : 홍길동\n",
      "old : 20\n",
      "address : 대구시 동구 신암동\n"
     ]
    }
   ],
   "source": [
    "x = {'name':\"홍길동\",'old':20,'address':\"대구시 동구 신암동\"}\n",
    "personal_info(**x)"
   ]
  },
  {
   "cell_type": "markdown",
   "id": "347a5230",
   "metadata": {},
   "source": [
    "### 매개변수에 초기값 지정"
   ]
  },
  {
   "cell_type": "code",
   "execution_count": 40,
   "id": "d6908a90",
   "metadata": {},
   "outputs": [],
   "source": [
    "def personal_info(name, age, address='비공개'):\n",
    "    print(\"이름:\",name)\n",
    "    print(\"나이:\",age)\n",
    "    print(\"주소:\",address)"
   ]
  },
  {
   "cell_type": "code",
   "execution_count": 41,
   "id": "15973d44",
   "metadata": {},
   "outputs": [
    {
     "name": "stdout",
     "output_type": "stream",
     "text": [
      "이름: 홍길동\n",
      "나이: 20\n",
      "주소: 비공개\n"
     ]
    }
   ],
   "source": [
    "personal_info('홍길동',20)"
   ]
  },
  {
   "cell_type": "code",
   "execution_count": 42,
   "id": "113f210b",
   "metadata": {},
   "outputs": [],
   "source": [
    "def personal_info(name, age=0, address='비공개'):\n",
    "    print(\"이름:\",name)\n",
    "    print(\"나이:\",age)\n",
    "    print(\"주소:\",address)"
   ]
  },
  {
   "cell_type": "code",
   "execution_count": 43,
   "id": "5708573d",
   "metadata": {},
   "outputs": [
    {
     "name": "stdout",
     "output_type": "stream",
     "text": [
      "이름: 홍길동\n",
      "나이: 0\n",
      "주소: 비공개\n"
     ]
    }
   ],
   "source": [
    "personal_info('홍길동')"
   ]
  },
  {
   "cell_type": "code",
   "execution_count": 44,
   "id": "dd13fdf4",
   "metadata": {},
   "outputs": [],
   "source": [
    "def personal_info(name='비공개', age=0, address='비공개'):\n",
    "    print(\"이름:\",name)\n",
    "    print(\"나이:\",age)\n",
    "    print(\"주소:\",address)"
   ]
  },
  {
   "cell_type": "code",
   "execution_count": 45,
   "id": "70f518b3",
   "metadata": {},
   "outputs": [
    {
     "name": "stdout",
     "output_type": "stream",
     "text": [
      "이름: 비공개\n",
      "나이: 0\n",
      "주소: 비공개\n"
     ]
    }
   ],
   "source": [
    "personal_info()"
   ]
  },
  {
   "cell_type": "code",
   "execution_count": 46,
   "id": "d026c469",
   "metadata": {},
   "outputs": [
    {
     "name": "stdout",
     "output_type": "stream",
     "text": [
      "이름: 비공개\n",
      "나이: 20\n",
      "주소: 비공개\n"
     ]
    }
   ],
   "source": [
    "personal_info(age=20)"
   ]
  },
  {
   "cell_type": "code",
   "execution_count": null,
   "id": "14f4f382",
   "metadata": {},
   "outputs": [],
   "source": []
  }
 ],
 "metadata": {
  "kernelspec": {
   "display_name": "Python 3",
   "language": "python",
   "name": "python3"
  },
  "language_info": {
   "codemirror_mode": {
    "name": "ipython",
    "version": 3
   },
   "file_extension": ".py",
   "mimetype": "text/x-python",
   "name": "python",
   "nbconvert_exporter": "python",
   "pygments_lexer": "ipython3",
   "version": "3.8.8"
  }
 },
 "nbformat": 4,
 "nbformat_minor": 5
}
