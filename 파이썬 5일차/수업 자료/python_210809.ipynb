{
 "cells": [
  {
   "cell_type": "markdown",
   "id": "1ef1dcd6",
   "metadata": {},
   "source": [
    "## 문자열 포매팅\n",
    "1. 문자열 포매팅 (  % 사용)\n",
    "1. format함수를 사용한 포매팅\n",
    "1. f문자열 포매팅"
   ]
  },
  {
   "cell_type": "markdown",
   "id": "48aa8ea4",
   "metadata": {},
   "source": [
    "### %를 사용한 방법\n",
    "- 파이썬 2.x버전에서 사용한 방법\n",
    "\n",
    "1. 숫자 바로 대입"
   ]
  },
  {
   "cell_type": "code",
   "execution_count": 7,
   "id": "cccaf618",
   "metadata": {},
   "outputs": [
    {
     "data": {
      "text/plain": [
       "'I have 3 apples'"
      ]
     },
     "execution_count": 7,
     "metadata": {},
     "output_type": "execute_result"
    }
   ],
   "source": [
    "\"I have %d apples\" %3"
   ]
  },
  {
   "cell_type": "markdown",
   "id": "89814458",
   "metadata": {},
   "source": [
    "- 문자열 바로 대입"
   ]
  },
  {
   "cell_type": "code",
   "execution_count": 8,
   "id": "c8cc40e5",
   "metadata": {},
   "outputs": [
    {
     "data": {
      "text/plain": [
       "'I have five apples'"
      ]
     },
     "execution_count": 8,
     "metadata": {},
     "output_type": "execute_result"
    }
   ],
   "source": [
    "\"I have %s apples\" %\"five\""
   ]
  },
  {
   "cell_type": "markdown",
   "id": "5551ccd7",
   "metadata": {},
   "source": [
    "- 숫자값을 변수로 대입"
   ]
  },
  {
   "cell_type": "code",
   "execution_count": 9,
   "id": "72af5730",
   "metadata": {},
   "outputs": [
    {
     "data": {
      "text/plain": [
       "'I have 3 apples'"
      ]
     },
     "execution_count": 9,
     "metadata": {},
     "output_type": "execute_result"
    }
   ],
   "source": [
    "num = 3\n",
    "\"I have %d apples\" % num"
   ]
  },
  {
   "cell_type": "markdown",
   "id": "cf60d78a",
   "metadata": {},
   "source": [
    "- 2개이상의 값 넣기\n",
    "- 반드시 % 뒤에 괄호가 있어야 함"
   ]
  },
  {
   "cell_type": "code",
   "execution_count": 11,
   "id": "cffd7d00",
   "metadata": {},
   "outputs": [
    {
     "data": {
      "text/plain": [
       "'I have five apples I ate 3'"
      ]
     },
     "execution_count": 11,
     "metadata": {},
     "output_type": "execute_result"
    }
   ],
   "source": [
    "\"I have %s apples I ate %d\" %(\"five\", 3)"
   ]
  },
  {
   "cell_type": "markdown",
   "id": "ff76f284",
   "metadata": {},
   "source": [
    " %s : 문자열\n",
    " \n",
    " %c : 문자 1개(character)\n",
    " \n",
    " %d : 정수\n",
    " \n",
    " %f : 실수\n",
    " \n",
    " %% : '%'를 나타냄"
   ]
  },
  {
   "cell_type": "code",
   "execution_count": 12,
   "id": "97465290",
   "metadata": {},
   "outputs": [
    {
     "data": {
      "text/plain": [
       "'98% program is installed...'"
      ]
     },
     "execution_count": 12,
     "metadata": {},
     "output_type": "execute_result"
    }
   ],
   "source": [
    "'%d%% program is installed...' % 98"
   ]
  },
  {
   "cell_type": "markdown",
   "id": "0febb7fe",
   "metadata": {},
   "source": [
    "### 정렬"
   ]
  },
  {
   "cell_type": "code",
   "execution_count": 13,
   "id": "806491ee",
   "metadata": {},
   "outputs": [
    {
     "data": {
      "text/plain": [
       "'        Hi'"
      ]
     },
     "execution_count": 13,
     "metadata": {},
     "output_type": "execute_result"
    }
   ],
   "source": [
    "\"%10s\" % 'Hi'"
   ]
  },
  {
   "cell_type": "code",
   "execution_count": 14,
   "id": "42ca1daa",
   "metadata": {},
   "outputs": [
    {
     "data": {
      "text/plain": [
       "'hi        jane'"
      ]
     },
     "execution_count": 14,
     "metadata": {},
     "output_type": "execute_result"
    }
   ],
   "source": [
    "\"%-10sjane\" % \"hi\""
   ]
  },
  {
   "cell_type": "code",
   "execution_count": 15,
   "id": "209b23ff",
   "metadata": {},
   "outputs": [
    {
     "data": {
      "text/plain": [
       "'3.1416'"
      ]
     },
     "execution_count": 15,
     "metadata": {},
     "output_type": "execute_result"
    }
   ],
   "source": [
    "\"%.4f\" % 3.1415927382"
   ]
  },
  {
   "cell_type": "code",
   "execution_count": 16,
   "id": "8500581a",
   "metadata": {},
   "outputs": [
    {
     "data": {
      "text/plain": [
       "'    3.1416'"
      ]
     },
     "execution_count": 16,
     "metadata": {},
     "output_type": "execute_result"
    }
   ],
   "source": [
    "\"%10.4f\"% 3.1415927382"
   ]
  },
  {
   "cell_type": "markdown",
   "id": "4d35407f",
   "metadata": {},
   "source": [
    "###  format함수를 사용한 포매팅\n",
    "- 파이썬 3버전부터 사용됨"
   ]
  },
  {
   "cell_type": "code",
   "execution_count": 18,
   "id": "c3aa902e",
   "metadata": {},
   "outputs": [
    {
     "data": {
      "text/plain": [
       "'I eat 3 apple'"
      ]
     },
     "execution_count": 18,
     "metadata": {},
     "output_type": "execute_result"
    }
   ],
   "source": [
    "\"I eat {0} apple\".format(3)"
   ]
  },
  {
   "cell_type": "code",
   "execution_count": 21,
   "id": "57741ead",
   "metadata": {},
   "outputs": [
    {
     "data": {
      "text/plain": [
       "'I have five apples'"
      ]
     },
     "execution_count": 21,
     "metadata": {},
     "output_type": "execute_result"
    }
   ],
   "source": [
    "\"I have {0} apples\".format(\"five\")"
   ]
  },
  {
   "cell_type": "code",
   "execution_count": 22,
   "id": "e2fec819",
   "metadata": {},
   "outputs": [
    {
     "data": {
      "text/plain": [
       "'I have 3 apples'"
      ]
     },
     "execution_count": 22,
     "metadata": {},
     "output_type": "execute_result"
    }
   ],
   "source": [
    "num = 3\n",
    "\"I have {0} apples\".format( num)"
   ]
  },
  {
   "cell_type": "code",
   "execution_count": 23,
   "id": "4408eb2f",
   "metadata": {},
   "outputs": [
    {
     "data": {
      "text/plain": [
       "'I have five apples I ate 3'"
      ]
     },
     "execution_count": 23,
     "metadata": {},
     "output_type": "execute_result"
    }
   ],
   "source": [
    "\"I have {} apples I ate {}\".format(\"five\", 3)"
   ]
  },
  {
   "cell_type": "code",
   "execution_count": 24,
   "id": "6b721f58",
   "metadata": {},
   "outputs": [
    {
     "data": {
      "text/plain": [
       "'I have five apples I ate 3'"
      ]
     },
     "execution_count": 24,
     "metadata": {},
     "output_type": "execute_result"
    }
   ],
   "source": [
    "\"I have {0} apples I ate {1}\".format(\"five\", 3)"
   ]
  },
  {
   "cell_type": "code",
   "execution_count": 25,
   "id": "d6b43e49",
   "metadata": {},
   "outputs": [
    {
     "data": {
      "text/plain": [
       "'I have 3 apples I ate five'"
      ]
     },
     "execution_count": 25,
     "metadata": {},
     "output_type": "execute_result"
    }
   ],
   "source": [
    "\"I have {1} apples I ate {0}\".format(\"five\", 3)"
   ]
  },
  {
   "cell_type": "code",
   "execution_count": 27,
   "id": "7d46faec",
   "metadata": {},
   "outputs": [
    {
     "data": {
      "text/plain": [
       "'I have five apples I ate 3'"
      ]
     },
     "execution_count": 27,
     "metadata": {},
     "output_type": "execute_result"
    }
   ],
   "source": [
    "\"I have {apples} apples I ate {num}\".format(apples=\"five\", num=3)"
   ]
  },
  {
   "cell_type": "markdown",
   "id": "64916a64",
   "metadata": {},
   "source": [
    "### format함수의 정렬"
   ]
  },
  {
   "cell_type": "code",
   "execution_count": 34,
   "id": "00cbd4ff",
   "metadata": {},
   "outputs": [
    {
     "data": {
      "text/plain": [
       "'        Hi'"
      ]
     },
     "execution_count": 34,
     "metadata": {},
     "output_type": "execute_result"
    }
   ],
   "source": [
    "\"{0:>10}\".format(\"Hi\")"
   ]
  },
  {
   "cell_type": "code",
   "execution_count": 35,
   "id": "84c3f877",
   "metadata": {},
   "outputs": [
    {
     "data": {
      "text/plain": [
       "'Hi        '"
      ]
     },
     "execution_count": 35,
     "metadata": {},
     "output_type": "execute_result"
    }
   ],
   "source": [
    "\"{0:<10}\".format(\"Hi\")"
   ]
  },
  {
   "cell_type": "code",
   "execution_count": 36,
   "id": "23f056fe",
   "metadata": {},
   "outputs": [
    {
     "data": {
      "text/plain": [
       "'    Hi    '"
      ]
     },
     "execution_count": 36,
     "metadata": {},
     "output_type": "execute_result"
    }
   ],
   "source": [
    "\"{0:^10}\".format(\"Hi\")"
   ]
  },
  {
   "cell_type": "code",
   "execution_count": 37,
   "id": "cdf8f20d",
   "metadata": {},
   "outputs": [
    {
     "data": {
      "text/plain": [
       "'====Hi===='"
      ]
     },
     "execution_count": 37,
     "metadata": {},
     "output_type": "execute_result"
    }
   ],
   "source": [
    "\"{0:=^10}\".format(\"Hi\")"
   ]
  },
  {
   "cell_type": "code",
   "execution_count": 38,
   "id": "ed586344",
   "metadata": {},
   "outputs": [
    {
     "data": {
      "text/plain": [
       "'Hi!!!!!!!!'"
      ]
     },
     "execution_count": 38,
     "metadata": {},
     "output_type": "execute_result"
    }
   ],
   "source": [
    "\"{0:!<10}\".format(\"Hi\")"
   ]
  },
  {
   "cell_type": "code",
   "execution_count": 40,
   "id": "4351830c",
   "metadata": {},
   "outputs": [
    {
     "data": {
      "text/plain": [
       "'3.1416'"
      ]
     },
     "execution_count": 40,
     "metadata": {},
     "output_type": "execute_result"
    }
   ],
   "source": [
    "\"{:0.4f}\".format(3.1415927382)"
   ]
  },
  {
   "cell_type": "code",
   "execution_count": 41,
   "id": "c545a266",
   "metadata": {},
   "outputs": [
    {
     "data": {
      "text/plain": [
       "'    3.1416'"
      ]
     },
     "execution_count": 41,
     "metadata": {},
     "output_type": "execute_result"
    }
   ],
   "source": [
    "\"{:10.4f}\".format(3.1415927382)"
   ]
  },
  {
   "cell_type": "code",
   "execution_count": 43,
   "id": "685118eb",
   "metadata": {},
   "outputs": [
    {
     "data": {
      "text/plain": [
       "'3.1416    '"
      ]
     },
     "execution_count": 43,
     "metadata": {},
     "output_type": "execute_result"
    }
   ],
   "source": [
    "\"{:<10.4f}\".format(3.1415927382)"
   ]
  },
  {
   "cell_type": "markdown",
   "id": "bb410286",
   "metadata": {},
   "source": [
    "### f문자열 포매팅\n",
    "- 파이썬 3.6버전부터 사용"
   ]
  },
  {
   "cell_type": "code",
   "execution_count": 45,
   "id": "a1020238",
   "metadata": {},
   "outputs": [
    {
     "data": {
      "text/plain": [
       "'나의 이름은 홍길동입니다. 나이는 30살 입니다'"
      ]
     },
     "execution_count": 45,
     "metadata": {},
     "output_type": "execute_result"
    }
   ],
   "source": [
    "name = '홍길동'\n",
    "age = 30\n",
    "f'나의 이름은 {name}입니다. 나이는 {age}살 입니다'"
   ]
  },
  {
   "cell_type": "code",
   "execution_count": 46,
   "id": "52e9d137",
   "metadata": {},
   "outputs": [
    {
     "data": {
      "text/plain": [
       "'내년에 나이는 31살 입니다'"
      ]
     },
     "execution_count": 46,
     "metadata": {},
     "output_type": "execute_result"
    }
   ],
   "source": [
    "age = 30\n",
    "f'내년에 나이는 {age+1}살 입니다'"
   ]
  },
  {
   "cell_type": "code",
   "execution_count": 48,
   "id": "ed645dab",
   "metadata": {},
   "outputs": [
    {
     "data": {
      "text/plain": [
       "'나의 이름은 홍길동이고 나이는 30입니다'"
      ]
     },
     "execution_count": 48,
     "metadata": {},
     "output_type": "execute_result"
    }
   ],
   "source": [
    "d = {'name':'홍길동', 'age':30}\n",
    "f'나의 이름은 {d[\"name\"]}이고 나이는 {d[\"age\"]}입니다'\n"
   ]
  },
  {
   "cell_type": "code",
   "execution_count": 50,
   "id": "7bcdac47",
   "metadata": {},
   "outputs": [
    {
     "data": {
      "text/plain": [
       "'        hi'"
      ]
     },
     "execution_count": 50,
     "metadata": {},
     "output_type": "execute_result"
    }
   ],
   "source": [
    "f'{\"hi\":>10}'"
   ]
  },
  {
   "cell_type": "code",
   "execution_count": 51,
   "id": "c7707338",
   "metadata": {},
   "outputs": [
    {
     "data": {
      "text/plain": [
       "'hi        '"
      ]
     },
     "execution_count": 51,
     "metadata": {},
     "output_type": "execute_result"
    }
   ],
   "source": [
    "f'{\"hi\":<10}'"
   ]
  },
  {
   "cell_type": "code",
   "execution_count": 52,
   "id": "f682a0b3",
   "metadata": {},
   "outputs": [
    {
     "data": {
      "text/plain": [
       "'    hi    '"
      ]
     },
     "execution_count": 52,
     "metadata": {},
     "output_type": "execute_result"
    }
   ],
   "source": [
    "f'{\"hi\":^10}'"
   ]
  },
  {
   "cell_type": "code",
   "execution_count": 55,
   "id": "4183b2ca",
   "metadata": {},
   "outputs": [
    {
     "data": {
      "text/plain": [
       "'hi!!!!!!!!'"
      ]
     },
     "execution_count": 55,
     "metadata": {},
     "output_type": "execute_result"
    }
   ],
   "source": [
    "f'{\"hi\":!<10}'"
   ]
  },
  {
   "cell_type": "code",
   "execution_count": 54,
   "id": "9a68fc89",
   "metadata": {},
   "outputs": [
    {
     "data": {
      "text/plain": [
       "'====hi===='"
      ]
     },
     "execution_count": 54,
     "metadata": {},
     "output_type": "execute_result"
    }
   ],
   "source": [
    "f'{\"hi\":=^10}'"
   ]
  },
  {
   "cell_type": "code",
   "execution_count": 58,
   "id": "9cb37cc4",
   "metadata": {},
   "outputs": [
    {
     "data": {
      "text/plain": [
       "'3.1416'"
      ]
     },
     "execution_count": 58,
     "metadata": {},
     "output_type": "execute_result"
    }
   ],
   "source": [
    "y = 3.1415927382\n",
    "f'{y:0.4f}'"
   ]
  },
  {
   "cell_type": "code",
   "execution_count": 59,
   "id": "7b8c1d4a",
   "metadata": {},
   "outputs": [
    {
     "data": {
      "text/plain": [
       "'    3.1416'"
      ]
     },
     "execution_count": 59,
     "metadata": {},
     "output_type": "execute_result"
    }
   ],
   "source": [
    "y = 3.1415927382\n",
    "f'{y:10.4f}'"
   ]
  },
  {
   "cell_type": "code",
   "execution_count": null,
   "id": "550fe079",
   "metadata": {},
   "outputs": [],
   "source": []
  }
 ],
 "metadata": {
  "kernelspec": {
   "display_name": "Python 3",
   "language": "python",
   "name": "python3"
  },
  "language_info": {
   "codemirror_mode": {
    "name": "ipython",
    "version": 3
   },
   "file_extension": ".py",
   "mimetype": "text/x-python",
   "name": "python",
   "nbconvert_exporter": "python",
   "pygments_lexer": "ipython3",
   "version": "3.8.8"
  }
 },
 "nbformat": 4,
 "nbformat_minor": 5
}
